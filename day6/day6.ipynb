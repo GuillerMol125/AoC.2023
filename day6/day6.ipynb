{
 "cells": [
  {
   "cell_type": "code",
   "execution_count": 2,
   "metadata": {},
   "outputs": [],
   "source": [
    "import pandas as pd\n",
    "import numpy as np\n",
    "import os, sys"
   ]
  },
  {
   "cell_type": "markdown",
   "metadata": {},
   "source": [
    "## FIRST SAMPLE INPUT"
   ]
  },
  {
   "cell_type": "code",
   "execution_count": 1,
   "metadata": {},
   "outputs": [],
   "source": [
    "input = [\"Time:      7  15   30\",\n",
    "\"Distance:  9  40  200\"]"
   ]
  },
  {
   "cell_type": "code",
   "execution_count": 3,
   "metadata": {},
   "outputs": [],
   "source": [
    "def get_value_list(line):\n",
    "    value_list = line.split(':')[1].split()\n",
    "    return value_list\n"
   ]
  },
  {
   "cell_type": "code",
   "execution_count": 5,
   "metadata": {},
   "outputs": [
    {
     "data": {
      "text/plain": [
       "(['7', '15', '30'], ['9', '40', '200'])"
      ]
     },
     "execution_count": 5,
     "metadata": {},
     "output_type": "execute_result"
    }
   ],
   "source": [
    "first_line = input[0]\n",
    "time_list = get_value_list(first_line)\n",
    "second_line = input[1]\n",
    "distance_list = get_value_list(second_line)\n",
    "\n",
    "time_list, distance_list"
   ]
  },
  {
   "cell_type": "code",
   "execution_count": 10,
   "metadata": {},
   "outputs": [],
   "source": [
    "def find_valid_combinations(time, distance):\n",
    "    valid_combs = []\n",
    "    for charging in range(time):\n",
    "        if (time - charging)*charging > distance:\n",
    "            valid_combs.append(charging)\n",
    "        else:\n",
    "            if len(valid_combs) > 0:\n",
    "                break\n",
    "    return valid_combs"
   ]
  },
  {
   "cell_type": "code",
   "execution_count": 12,
   "metadata": {},
   "outputs": [
    {
     "name": "stdout",
     "output_type": "stream",
     "text": [
      "288\n"
     ]
    }
   ],
   "source": [
    "cumulator = 1\n",
    "for time, distance in zip(time_list, distance_list):\n",
    "    valid_combs = find_valid_combinations(int(time),int(distance))\n",
    "    cumulator = cumulator*len(valid_combs)\n",
    "print(cumulator)"
   ]
  },
  {
   "cell_type": "markdown",
   "metadata": {},
   "source": [
    "## PROCESS PART 1"
   ]
  },
  {
   "cell_type": "code",
   "execution_count": 13,
   "metadata": {},
   "outputs": [],
   "source": [
    "# READ FILE\n",
    "inputfilepath = './input.txt'\n",
    "\n",
    "input = []\n",
    "with open(inputfilepath,'r') as f:\n",
    "    for line in f:\n",
    "        input.append(line.rstrip())"
   ]
  },
  {
   "cell_type": "code",
   "execution_count": 14,
   "metadata": {},
   "outputs": [
    {
     "data": {
      "text/plain": [
       "(['40', '82', '91', '66'], ['277', '1338', '1349', '1063'])"
      ]
     },
     "execution_count": 14,
     "metadata": {},
     "output_type": "execute_result"
    }
   ],
   "source": [
    "first_line = input[0]\n",
    "time_list = get_value_list(first_line)\n",
    "second_line = input[1]\n",
    "distance_list = get_value_list(second_line)\n",
    "\n",
    "time_list, distance_list"
   ]
  },
  {
   "cell_type": "code",
   "execution_count": 15,
   "metadata": {},
   "outputs": [
    {
     "name": "stdout",
     "output_type": "stream",
     "text": [
      "505494\n"
     ]
    }
   ],
   "source": [
    "cumulator = 1\n",
    "for time, distance in zip(time_list, distance_list):\n",
    "    valid_combs = find_valid_combinations(int(time),int(distance))\n",
    "    cumulator = cumulator*len(valid_combs)\n",
    "print(cumulator)"
   ]
  },
  {
   "cell_type": "markdown",
   "metadata": {},
   "source": [
    "## SAMPLE PART 2"
   ]
  },
  {
   "cell_type": "code",
   "execution_count": 16,
   "metadata": {},
   "outputs": [],
   "source": [
    "input = [\"Time:      7  15   30\",\n",
    "\"Distance:  9  40  200\"]"
   ]
  },
  {
   "cell_type": "code",
   "execution_count": 17,
   "metadata": {},
   "outputs": [
    {
     "data": {
      "text/plain": [
       "(71530, 940200)"
      ]
     },
     "execution_count": 17,
     "metadata": {},
     "output_type": "execute_result"
    }
   ],
   "source": [
    "first_line = input[0]\n",
    "time_list = get_value_list(first_line)\n",
    "second_line = input[1]\n",
    "distance_list = get_value_list(second_line)\n",
    "\n",
    "time_value = int(''.join(time_list))\n",
    "distance_value = int(''.join(distance_list))\n",
    "\n",
    "time_value, distance_value"
   ]
  },
  {
   "cell_type": "code",
   "execution_count": 19,
   "metadata": {},
   "outputs": [
    {
     "data": {
      "text/plain": [
       "71503"
      ]
     },
     "execution_count": 19,
     "metadata": {},
     "output_type": "execute_result"
    }
   ],
   "source": [
    "len(find_valid_combinations(time_value, distance_value))"
   ]
  },
  {
   "cell_type": "markdown",
   "metadata": {},
   "source": [
    "## PROCESS PART 2"
   ]
  },
  {
   "cell_type": "code",
   "execution_count": 20,
   "metadata": {},
   "outputs": [],
   "source": [
    "# READ FILE\n",
    "inputfilepath = './input.txt'\n",
    "\n",
    "input = []\n",
    "with open(inputfilepath,'r') as f:\n",
    "    for line in f:\n",
    "        input.append(line.rstrip())"
   ]
  },
  {
   "cell_type": "code",
   "execution_count": 21,
   "metadata": {},
   "outputs": [
    {
     "data": {
      "text/plain": [
       "(40829166, 277133813491063)"
      ]
     },
     "execution_count": 21,
     "metadata": {},
     "output_type": "execute_result"
    }
   ],
   "source": [
    "first_line = input[0]\n",
    "time_list = get_value_list(first_line)\n",
    "second_line = input[1]\n",
    "distance_list = get_value_list(second_line)\n",
    "\n",
    "time_value = int(''.join(time_list))\n",
    "distance_value = int(''.join(distance_list))\n",
    "\n",
    "time_value, distance_value"
   ]
  },
  {
   "cell_type": "code",
   "execution_count": 22,
   "metadata": {},
   "outputs": [
    {
     "data": {
      "text/plain": [
       "23632299"
      ]
     },
     "execution_count": 22,
     "metadata": {},
     "output_type": "execute_result"
    }
   ],
   "source": [
    "len(find_valid_combinations(time_value, distance_value))"
   ]
  },
  {
   "cell_type": "code",
   "execution_count": null,
   "metadata": {},
   "outputs": [],
   "source": []
  }
 ],
 "metadata": {
  "kernelspec": {
   "display_name": "geodiag",
   "language": "python",
   "name": "python3"
  },
  "language_info": {
   "codemirror_mode": {
    "name": "ipython",
    "version": 3
   },
   "file_extension": ".py",
   "mimetype": "text/x-python",
   "name": "python",
   "nbconvert_exporter": "python",
   "pygments_lexer": "ipython3",
   "version": "3.8.10"
  }
 },
 "nbformat": 4,
 "nbformat_minor": 2
}
