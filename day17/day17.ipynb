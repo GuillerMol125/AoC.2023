{
 "cells": [
  {
   "cell_type": "code",
   "execution_count": 3,
   "metadata": {},
   "outputs": [],
   "source": [
    "import pandas as pd\n",
    "import numpy as np\n",
    "import os, sys\n",
    "import math\n",
    "import copy"
   ]
  },
  {
   "cell_type": "markdown",
   "metadata": {},
   "source": [
    "## PROCESS FIRST SAMPLE"
   ]
  },
  {
   "cell_type": "code",
   "execution_count": 11,
   "metadata": {},
   "outputs": [],
   "source": [
    "input = '''2413432311323\n",
    "3215453535623\n",
    "3255245654254\n",
    "3446585845452\n",
    "4546657867536\n",
    "1438598798454\n",
    "4457876987766\n",
    "3637877979653\n",
    "4654967986887\n",
    "4564679986453\n",
    "1224686865563\n",
    "2546548887735\n",
    "4322674655533'''"
   ]
  },
  {
   "cell_type": "code",
   "execution_count": 20,
   "metadata": {},
   "outputs": [],
   "source": [
    "opposite_direction = {'r':'l', 'l':'r', 'u':'d', 'd':'u'}\n",
    "next_movement = {'r':[0,1], 'l':[0,-1], 'u':[-1,0], 'd':[1,0]}"
   ]
  },
  {
   "cell_type": "code",
   "execution_count": 13,
   "metadata": {},
   "outputs": [
    {
     "name": "stdout",
     "output_type": "stream",
     "text": [
      "2413432311323\n",
      "3215453535623\n",
      "3255245654254\n",
      "3446585845452\n",
      "4546657867536\n",
      "1438598798454\n",
      "4457876987766\n",
      "3637877979653\n",
      "4654967986887\n",
      "4564679986453\n",
      "1224686865563\n",
      "2546548887735\n",
      "4322674655533\n"
     ]
    },
    {
     "data": {
      "text/plain": [
       "array([[2, 4, 1, 3, 4, 3, 2, 3, 1, 1, 3, 2, 3],\n",
       "       [3, 2, 1, 5, 4, 5, 3, 5, 3, 5, 6, 2, 3],\n",
       "       [3, 2, 5, 5, 2, 4, 5, 6, 5, 4, 2, 5, 4],\n",
       "       [3, 4, 4, 6, 5, 8, 5, 8, 4, 5, 4, 5, 2],\n",
       "       [4, 5, 4, 6, 6, 5, 7, 8, 6, 7, 5, 3, 6],\n",
       "       [1, 4, 3, 8, 5, 9, 8, 7, 9, 8, 4, 5, 4],\n",
       "       [4, 4, 5, 7, 8, 7, 6, 9, 8, 7, 7, 6, 6],\n",
       "       [3, 6, 3, 7, 8, 7, 7, 9, 7, 9, 6, 5, 3],\n",
       "       [4, 6, 5, 4, 9, 6, 7, 9, 8, 6, 8, 8, 7],\n",
       "       [4, 5, 6, 4, 6, 7, 9, 9, 8, 6, 4, 5, 3],\n",
       "       [1, 2, 2, 4, 6, 8, 6, 8, 6, 5, 5, 6, 3],\n",
       "       [2, 5, 4, 6, 5, 4, 8, 8, 8, 7, 7, 3, 5],\n",
       "       [4, 3, 2, 2, 6, 7, 4, 6, 5, 5, 5, 3, 3]])"
      ]
     },
     "execution_count": 13,
     "metadata": {},
     "output_type": "execute_result"
    }
   ],
   "source": [
    "input = input.split('\\n')\n",
    "map = []\n",
    "for line in input:\n",
    "    print(line)\n",
    "    map.append([int(x) for x in line])\n",
    "map\n",
    "np_map = np.array(map)\n",
    "np_map"
   ]
  },
  {
   "cell_type": "code",
   "execution_count": 45,
   "metadata": {},
   "outputs": [],
   "source": [
    "position = (0,0)\n",
    "active_paths = [(position,'d',0,0)] # POSITION, DIRECTION, STREAK, HEAT\n",
    "optimal_visits = {}                 # DICT TO STORE OPTIMAL HEATS PER [POSITION] [(DIRECTION, STREAK)]\n",
    "\n",
    "while len(active_paths) > 0:\n",
    "    current_path = active_paths.pop(0)\n",
    "    current_position, current_direction, current_streak, current_heat = current_path\n",
    "\n",
    "    next_heat = np_map[current_position[0], current_position[1]] + current_heat\n",
    "    optimal_visits_key = (current_direction, current_streak)\n",
    "    \n",
    "    if current_position in optimal_visits.keys():\n",
    "        if optimal_visits_key in optimal_visits[current_position].keys():\n",
    "            if optimal_visits[current_position][optimal_visits_key] <= next_heat: # WE ONLY CONTINUE PATHS THAT IMPROVE ON EXISTING KNOWLEDGE\n",
    "                continue\n",
    "    else:\n",
    "        optimal_visits[current_position] = {}\n",
    "    \n",
    "    optimal_visits[current_position][optimal_visits_key] = next_heat      # EITHER NEW KEY OR IMPROVING KNOWN HEAT\n",
    "\n",
    "    next_direction_list = list(opposite_direction.keys())\n",
    "    next_direction_list.remove(opposite_direction[current_direction])\n",
    "    if current_streak == 3:                             # SAME DIRECTION CANNOT GO BEYOND STREAK 3\n",
    "        next_direction_list.remove(current_direction)\n",
    "    \n",
    "    for next_direction in next_direction_list:\n",
    "        next_position = tuple(np.add(current_position, next_movement[next_direction]))\n",
    "        if (next_position[0] < 0) or (next_position[0] >= len(map) or next_position[1] < 0 or next_position[1] >= len(map[0])): # DO NOT PURSUE OUT OF BOUNDS POSITION\n",
    "            continue\n",
    "        if next_direction == current_direction:\n",
    "            next_streak = current_streak + 1\n",
    "        else:\n",
    "            next_streak = 1\n",
    "\n",
    "        active_paths.append((next_position,next_direction,next_streak,next_heat))\n",
    "    "
   ]
  },
  {
   "cell_type": "code",
   "execution_count": 46,
   "metadata": {},
   "outputs": [
    {
     "data": {
      "text/plain": [
       "({('d', 0): 2,\n",
       "  ('u', 1): 13,\n",
       "  ('l', 1): 13,\n",
       "  ('l', 2): 15,\n",
       "  ('u', 2): 17,\n",
       "  ('l', 3): 23,\n",
       "  ('u', 3): 24},\n",
       " {('d', 3): 106,\n",
       "  ('d', 2): 108,\n",
       "  ('d', 1): 106,\n",
       "  ('r', 1): 104,\n",
       "  ('r', 2): 116,\n",
       "  ('r', 3): 117})"
      ]
     },
     "execution_count": 46,
     "metadata": {},
     "output_type": "execute_result"
    }
   ],
   "source": [
    "optimal_visits[(0,0)], optimal_visits[(12,12)]"
   ]
  },
  {
   "cell_type": "code",
   "execution_count": 44,
   "metadata": {},
   "outputs": [
    {
     "name": "stdout",
     "output_type": "stream",
     "text": [
      "['2', '6', '7', '10', '16', '19', '25', '29', '31', '34', '40', '42', '48']\n",
      "['5', '7', '8', '13', '17', '22', '27', '32', '34', '39', '45', '44', '47']\n",
      "['8', '9', '13', '18', '19', '23', '28', '34', '39', '43', '45', '49', '51']\n",
      "['11', '13', '17', '23', '24', '31', '33', '41', '43', '48', '49', '54', '53']\n",
      "['19', '18', '21', '27', '30', '35', '40', '48', '50', '55', '54', '57', '59']\n",
      "['20', '23', '24', '32', '36', '44', '48', '55', '60', '63', '58', '62', '65']\n",
      "['25', '28', '29', '36', '44', '51', '56', '64', '68', '70', '68', '68', '72']\n",
      "['30', '34', '33', '40', '48', '55', '63', '72', '78', '81', '77', '73', '75']\n",
      "['35', '40', '39', '43', '52', '58', '66', '77', '85', '88', '87', '82', '82']\n",
      "['43', '46', '47', '47', '53', '60', '69', '83', '91', '96', '91', '91', '86']\n",
      "['46', '48', '50', '51', '57', '65', '71', '81', '88', '94', '96', '95', '89']\n",
      "['51', '53', '54', '57', '62', '66', '74', '82', '93', '101', '105', '98', '100']\n",
      "['55', '56', '56', '58', '64', '71', '77', '83', '88', '94', '103', '101', '104']\n"
     ]
    }
   ],
   "source": [
    "optimal_map = []\n",
    "for row in range(np_map.shape[0]):\n",
    "    optimal_row = []\n",
    "    for col in range(np_map.shape[1]):\n",
    "        optimal = min(optimal_visits[(row,col)].values())\n",
    "        optimal_row.append(str(optimal))\n",
    "    optimal_map.append(optimal_row)\n",
    "    print(optimal_row)\n"
   ]
  },
  {
   "cell_type": "code",
   "execution_count": 48,
   "metadata": {},
   "outputs": [],
   "source": [
    "solution = '''2>>34^>>>1323\n",
    "32v>>>35v5623\n",
    "32552456v>>54\n",
    "3446585845v52\n",
    "4546657867v>6\n",
    "14385987984v4\n",
    "44578769877v6\n",
    "36378779796v>\n",
    "465496798688v\n",
    "456467998645v\n",
    "12246868655<v\n",
    "25465488877v5\n",
    "43226746555v>'''"
   ]
  },
  {
   "cell_type": "code",
   "execution_count": 49,
   "metadata": {},
   "outputs": [
    {
     "name": "stdout",
     "output_type": "stream",
     "text": [
      "2>>34^>>>1323\n",
      "32v>>>35v5623\n",
      "32552456v>>54\n",
      "3446585845v52\n",
      "4546657867v>6\n",
      "14385987984v4\n",
      "44578769877v6\n",
      "36378779796v>\n",
      "465496798688v\n",
      "456467998645v\n",
      "12246868655<v\n",
      "25465488877v5\n",
      "43226746555v>\n"
     ]
    },
    {
     "data": {
      "text/plain": [
       "array([['2', '>', '>', '3', '4', '^', '>', '>', '>', '1', '3', '2', '3'],\n",
       "       ['3', '2', 'v', '>', '>', '>', '3', '5', 'v', '5', '6', '2', '3'],\n",
       "       ['3', '2', '5', '5', '2', '4', '5', '6', 'v', '>', '>', '5', '4'],\n",
       "       ['3', '4', '4', '6', '5', '8', '5', '8', '4', '5', 'v', '5', '2'],\n",
       "       ['4', '5', '4', '6', '6', '5', '7', '8', '6', '7', 'v', '>', '6'],\n",
       "       ['1', '4', '3', '8', '5', '9', '8', '7', '9', '8', '4', 'v', '4'],\n",
       "       ['4', '4', '5', '7', '8', '7', '6', '9', '8', '7', '7', 'v', '6'],\n",
       "       ['3', '6', '3', '7', '8', '7', '7', '9', '7', '9', '6', 'v', '>'],\n",
       "       ['4', '6', '5', '4', '9', '6', '7', '9', '8', '6', '8', '8', 'v'],\n",
       "       ['4', '5', '6', '4', '6', '7', '9', '9', '8', '6', '4', '5', 'v'],\n",
       "       ['1', '2', '2', '4', '6', '8', '6', '8', '6', '5', '5', '<', 'v'],\n",
       "       ['2', '5', '4', '6', '5', '4', '8', '8', '8', '7', '7', 'v', '5'],\n",
       "       ['4', '3', '2', '2', '6', '7', '4', '6', '5', '5', '5', 'v', '>']],\n",
       "      dtype='<U1')"
      ]
     },
     "execution_count": 49,
     "metadata": {},
     "output_type": "execute_result"
    }
   ],
   "source": [
    "solution = solution.split('\\n')\n",
    "solution_map = []\n",
    "for line in solution:\n",
    "    print(line)\n",
    "    solution_map.append([x for x in line])\n",
    "solution_map\n",
    "solution_map = np.array(solution_map)\n",
    "solution_map"
   ]
  },
  {
   "cell_type": "markdown",
   "metadata": {},
   "source": [
    "## PROCESS PART 1"
   ]
  },
  {
   "cell_type": "code",
   "execution_count": 57,
   "metadata": {},
   "outputs": [],
   "source": [
    "# READ FILE\n",
    "inputfilepath = './input.txt'\n",
    "\n",
    "input = []\n",
    "with open(inputfilepath,'r') as f:\n",
    "    for line in f:\n",
    "        input.append(line.rstrip())"
   ]
  },
  {
   "cell_type": "code",
   "execution_count": 58,
   "metadata": {},
   "outputs": [
    {
     "name": "stdout",
     "output_type": "stream",
     "text": [
      "(141, 141)\n"
     ]
    },
    {
     "data": {
      "text/plain": [
       "array([[3, 1, 4, ..., 5, 5, 5],\n",
       "       [5, 4, 1, ..., 5, 3, 5],\n",
       "       [3, 3, 1, ..., 5, 4, 2],\n",
       "       ...,\n",
       "       [5, 5, 2, ..., 3, 1, 3],\n",
       "       [2, 2, 1, ..., 1, 3, 2],\n",
       "       [1, 4, 4, ..., 4, 1, 5]])"
      ]
     },
     "execution_count": 58,
     "metadata": {},
     "output_type": "execute_result"
    }
   ],
   "source": [
    "map = []\n",
    "for line in input:\n",
    "    map.append([int(x) for x in line])\n",
    "np_map = np.array(map)\n",
    "print(np_map.shape)\n",
    "np_map"
   ]
  },
  {
   "cell_type": "code",
   "execution_count": 60,
   "metadata": {},
   "outputs": [],
   "source": [
    "position = (0,0)\n",
    "active_paths = [(position,'d',0,0,[position])] # POSITION, DIRECTION, STREAK, HEAT, PATH_SO_FAR\n",
    "optimal_visits = {}                 # DICT TO STORE OPTIMAL HEATS PER [POSITION] [(DIRECTION, STREAK)]\n",
    "\n",
    "while len(active_paths) > 0:\n",
    "    min_heat = active_paths[0][3]\n",
    "    min_id = 0\n",
    "    for i_path, path in enumerate(active_paths):\n",
    "        if path[3] < min_heat:\n",
    "            min_heat = path[3]\n",
    "            min_id = i_path\n",
    "    current_path = active_paths.pop(min_id)\n",
    "    current_position, current_direction, current_streak, current_heat, current_pathsofar = current_path\n",
    "\n",
    "    next_heat = np_map[current_position[0], current_position[1]] + current_heat\n",
    "    optimal_visits_key = (current_direction, current_streak)\n",
    "    \n",
    "    if current_position in optimal_visits.keys():\n",
    "        if optimal_visits_key in optimal_visits[current_position].keys():\n",
    "            if optimal_visits[current_position][optimal_visits_key] <= next_heat: # WE ONLY CONTINUE PATHS THAT IMPROVE ON EXISTING KNOWLEDGE\n",
    "                continue\n",
    "    else:\n",
    "        optimal_visits[current_position] = {}\n",
    "    \n",
    "    optimal_visits[current_position][optimal_visits_key] = next_heat      # EITHER NEW KEY OR IMPROVING KNOWN HEAT\n",
    "\n",
    "    next_direction_list = list(opposite_direction.keys())\n",
    "    next_direction_list.remove(opposite_direction[current_direction])\n",
    "    if current_streak == 3:                             # SAME DIRECTION CANNOT GO BEYOND STREAK 3\n",
    "        next_direction_list.remove(current_direction)\n",
    "    \n",
    "    for next_direction in next_direction_list:\n",
    "        next_position = tuple(np.add(current_position, next_movement[next_direction]))\n",
    "        if (next_position[0] < 0) or (next_position[0] >= len(map) or next_position[1] < 0 or next_position[1] >= len(map[0])): # DO NOT PURSUE OUT OF BOUNDS POSITION\n",
    "            continue\n",
    "        if next_position in current_pathsofar:  # DO NOT BACKTRACK\n",
    "            continue\n",
    "\n",
    "        if next_direction == current_direction:\n",
    "            next_streak = current_streak + 1\n",
    "        else:\n",
    "            next_streak = 1\n",
    "        \n",
    "        next_pathsofar = current_pathsofar.copy()\n",
    "        next_pathsofar.append(next_position)\n",
    "\n",
    "        active_paths.append((next_position,next_direction,next_streak,next_heat,next_pathsofar))"
   ]
  },
  {
   "cell_type": "code",
   "execution_count": 65,
   "metadata": {},
   "outputs": [
    {
     "data": {
      "text/plain": [
       "1256"
      ]
     },
     "execution_count": 65,
     "metadata": {},
     "output_type": "execute_result"
    }
   ],
   "source": [
    "min(optimal_visits[(140,140)].values()) - min(optimal_visits[(0,0)].values())"
   ]
  },
  {
   "cell_type": "markdown",
   "metadata": {},
   "source": [
    "## PROCESS SECOND SAMPLE"
   ]
  },
  {
   "cell_type": "code",
   "execution_count": 66,
   "metadata": {},
   "outputs": [],
   "source": [
    "input = '''2413432311323\n",
    "3215453535623\n",
    "3255245654254\n",
    "3446585845452\n",
    "4546657867536\n",
    "1438598798454\n",
    "4457876987766\n",
    "3637877979653\n",
    "4654967986887\n",
    "4564679986453\n",
    "1224686865563\n",
    "2546548887735\n",
    "4322674655533'''"
   ]
  },
  {
   "cell_type": "code",
   "execution_count": 67,
   "metadata": {},
   "outputs": [
    {
     "name": "stdout",
     "output_type": "stream",
     "text": [
      "2413432311323\n",
      "3215453535623\n",
      "3255245654254\n",
      "3446585845452\n",
      "4546657867536\n",
      "1438598798454\n",
      "4457876987766\n",
      "3637877979653\n",
      "4654967986887\n",
      "4564679986453\n",
      "1224686865563\n",
      "2546548887735\n",
      "4322674655533\n"
     ]
    },
    {
     "data": {
      "text/plain": [
       "array([[2, 4, 1, 3, 4, 3, 2, 3, 1, 1, 3, 2, 3],\n",
       "       [3, 2, 1, 5, 4, 5, 3, 5, 3, 5, 6, 2, 3],\n",
       "       [3, 2, 5, 5, 2, 4, 5, 6, 5, 4, 2, 5, 4],\n",
       "       [3, 4, 4, 6, 5, 8, 5, 8, 4, 5, 4, 5, 2],\n",
       "       [4, 5, 4, 6, 6, 5, 7, 8, 6, 7, 5, 3, 6],\n",
       "       [1, 4, 3, 8, 5, 9, 8, 7, 9, 8, 4, 5, 4],\n",
       "       [4, 4, 5, 7, 8, 7, 6, 9, 8, 7, 7, 6, 6],\n",
       "       [3, 6, 3, 7, 8, 7, 7, 9, 7, 9, 6, 5, 3],\n",
       "       [4, 6, 5, 4, 9, 6, 7, 9, 8, 6, 8, 8, 7],\n",
       "       [4, 5, 6, 4, 6, 7, 9, 9, 8, 6, 4, 5, 3],\n",
       "       [1, 2, 2, 4, 6, 8, 6, 8, 6, 5, 5, 6, 3],\n",
       "       [2, 5, 4, 6, 5, 4, 8, 8, 8, 7, 7, 3, 5],\n",
       "       [4, 3, 2, 2, 6, 7, 4, 6, 5, 5, 5, 3, 3]])"
      ]
     },
     "execution_count": 67,
     "metadata": {},
     "output_type": "execute_result"
    }
   ],
   "source": [
    "input = input.split('\\n')\n",
    "map = []\n",
    "for line in input:\n",
    "    print(line)\n",
    "    map.append([int(x) for x in line])\n",
    "map\n",
    "np_map = np.array(map)\n",
    "np_map"
   ]
  },
  {
   "cell_type": "code",
   "execution_count": 68,
   "metadata": {},
   "outputs": [],
   "source": [
    "position = (0,0)\n",
    "active_paths = [(position,'r',0,0,[position])] # POSITION, DIRECTION, STREAK, HEAT, PATH_SO_FAR\n",
    "optimal_visits = {}                 # DICT TO STORE OPTIMAL HEATS PER [POSITION] [(DIRECTION, STREAK)]\n",
    "\n",
    "while len(active_paths) > 0:\n",
    "    min_heat = active_paths[0][3]\n",
    "    min_id = 0\n",
    "    for i_path, path in enumerate(active_paths):\n",
    "        if path[3] < min_heat:\n",
    "            min_heat = path[3]\n",
    "            min_id = i_path\n",
    "    current_path = active_paths.pop(min_id)\n",
    "    current_position, current_direction, current_streak, current_heat, current_pathsofar = current_path\n",
    "\n",
    "    next_heat = np_map[current_position[0], current_position[1]] + current_heat\n",
    "    optimal_visits_key = (current_direction, current_streak)\n",
    "    \n",
    "    if current_position in optimal_visits.keys():\n",
    "        if optimal_visits_key in optimal_visits[current_position].keys():\n",
    "            if optimal_visits[current_position][optimal_visits_key] <= next_heat: # WE ONLY CONTINUE PATHS THAT IMPROVE ON EXISTING KNOWLEDGE\n",
    "                continue\n",
    "    else:\n",
    "        optimal_visits[current_position] = {}\n",
    "    \n",
    "    optimal_visits[current_position][optimal_visits_key] = next_heat      # EITHER NEW KEY OR IMPROVING KNOWN HEAT\n",
    "\n",
    "    next_direction_list = list(opposite_direction.keys())\n",
    "    next_direction_list.remove(opposite_direction[current_direction])\n",
    "    if current_streak == 10:                             # SAME DIRECTION CANNOT GO BEYOND STREAK 3\n",
    "        next_direction_list.remove(current_direction)\n",
    "    if current_streak < 4:\n",
    "        next_direction_list = [current_direction]\n",
    "    \n",
    "    for next_direction in next_direction_list:\n",
    "        next_position = tuple(np.add(current_position, next_movement[next_direction]))\n",
    "        if (next_position[0] < 0) or (next_position[0] >= len(map) or next_position[1] < 0 or next_position[1] >= len(map[0])): # DO NOT PURSUE OUT OF BOUNDS POSITION\n",
    "            continue\n",
    "        if next_position in current_pathsofar:  # DO NOT BACKTRACK\n",
    "            continue\n",
    "\n",
    "        if next_direction == current_direction:\n",
    "            next_streak = current_streak + 1\n",
    "        else:\n",
    "            next_streak = 1\n",
    "        \n",
    "        next_pathsofar = current_pathsofar.copy()\n",
    "        next_pathsofar.append(next_position)\n",
    "\n",
    "        active_paths.append((next_position,next_direction,next_streak,next_heat,next_pathsofar))"
   ]
  },
  {
   "cell_type": "code",
   "execution_count": 71,
   "metadata": {},
   "outputs": [
    {
     "data": {
      "text/plain": [
       "({('d', 8): 96,\n",
       "  ('d', 7): 101,\n",
       "  ('d', 6): 108,\n",
       "  ('d', 5): 109,\n",
       "  ('d', 3): 110,\n",
       "  ('r', 1): 112,\n",
       "  ('d', 2): 114,\n",
       "  ('d', 4): 116,\n",
       "  ('r', 2): 117,\n",
       "  ('r', 3): 128,\n",
       "  ('r', 4): 132,\n",
       "  ('d', 1): 136,\n",
       "  ('r', 10): 136,\n",
       "  ('r', 8): 147,\n",
       "  ('r', 7): 149,\n",
       "  ('r', 6): 153,\n",
       "  ('d', 10): 155,\n",
       "  ('r', 9): 159,\n",
       "  ('r', 5): 160,\n",
       "  ('d', 9): 165},\n",
       " 2)"
      ]
     },
     "execution_count": 71,
     "metadata": {},
     "output_type": "execute_result"
    }
   ],
   "source": [
    "optimal_visits[(12,12)], min(optimal_visits[(0,0)].values())"
   ]
  },
  {
   "cell_type": "markdown",
   "metadata": {},
   "source": [
    "## PROCESS PART 2"
   ]
  },
  {
   "cell_type": "code",
   "execution_count": 72,
   "metadata": {},
   "outputs": [],
   "source": [
    "# READ FILE\n",
    "inputfilepath = './input.txt'\n",
    "\n",
    "input = []\n",
    "with open(inputfilepath,'r') as f:\n",
    "    for line in f:\n",
    "        input.append(line.rstrip())"
   ]
  },
  {
   "cell_type": "code",
   "execution_count": 73,
   "metadata": {},
   "outputs": [
    {
     "name": "stdout",
     "output_type": "stream",
     "text": [
      "(141, 141)\n"
     ]
    },
    {
     "data": {
      "text/plain": [
       "array([[3, 1, 4, ..., 5, 5, 5],\n",
       "       [5, 4, 1, ..., 5, 3, 5],\n",
       "       [3, 3, 1, ..., 5, 4, 2],\n",
       "       ...,\n",
       "       [5, 5, 2, ..., 3, 1, 3],\n",
       "       [2, 2, 1, ..., 1, 3, 2],\n",
       "       [1, 4, 4, ..., 4, 1, 5]])"
      ]
     },
     "execution_count": 73,
     "metadata": {},
     "output_type": "execute_result"
    }
   ],
   "source": [
    "map = []\n",
    "for line in input:\n",
    "    map.append([int(x) for x in line])\n",
    "np_map = np.array(map)\n",
    "print(np_map.shape)\n",
    "np_map"
   ]
  },
  {
   "cell_type": "code",
   "execution_count": 75,
   "metadata": {},
   "outputs": [
    {
     "ename": "KeyboardInterrupt",
     "evalue": "",
     "output_type": "error",
     "traceback": [
      "\u001b[0;31m---------------------------------------------------------------------------\u001b[0m",
      "\u001b[0;31mKeyboardInterrupt\u001b[0m                         Traceback (most recent call last)",
      "Cell \u001b[0;32mIn [75], line 9\u001b[0m\n\u001b[1;32m      7\u001b[0m min_id \u001b[38;5;241m=\u001b[39m \u001b[38;5;241m0\u001b[39m\n\u001b[1;32m      8\u001b[0m \u001b[38;5;28;01mfor\u001b[39;00m i_path, path \u001b[38;5;129;01min\u001b[39;00m \u001b[38;5;28menumerate\u001b[39m(active_paths):\n\u001b[0;32m----> 9\u001b[0m     \u001b[38;5;28;01mif\u001b[39;00m path[\u001b[38;5;241m3\u001b[39m] \u001b[38;5;241m<\u001b[39m min_heat:\n\u001b[1;32m     10\u001b[0m         min_heat \u001b[38;5;241m=\u001b[39m path[\u001b[38;5;241m3\u001b[39m]\n\u001b[1;32m     11\u001b[0m         min_id \u001b[38;5;241m=\u001b[39m i_path\n",
      "\u001b[0;31mKeyboardInterrupt\u001b[0m: "
     ]
    }
   ],
   "source": [
    "position = (0,0)\n",
    "active_paths = [(position,'r',0,0,[position])] # POSITION, DIRECTION, STREAK, HEAT, PATH_SO_FAR\n",
    "optimal_visits = {}                 # DICT TO STORE OPTIMAL HEATS PER [POSITION] [(DIRECTION, STREAK)]\n",
    "\n",
    "while len(active_paths) > 0:\n",
    "    min_heat = active_paths[0][3]\n",
    "    min_id = 0\n",
    "    for i_path, path in enumerate(active_paths):\n",
    "        if path[3] < min_heat:\n",
    "            min_heat = path[3]\n",
    "            min_id = i_path\n",
    "    current_path = active_paths.pop(min_id)\n",
    "    current_position, current_direction, current_streak, current_heat, current_pathsofar = current_path\n",
    "\n",
    "    next_heat = np_map[current_position[0], current_position[1]] + current_heat\n",
    "    optimal_visits_key = (current_direction, current_streak)\n",
    "    \n",
    "    if current_position in optimal_visits.keys():\n",
    "        if optimal_visits_key in optimal_visits[current_position].keys():\n",
    "            if optimal_visits[current_position][optimal_visits_key] <= next_heat: # WE ONLY CONTINUE PATHS THAT IMPROVE ON EXISTING KNOWLEDGE\n",
    "                continue\n",
    "    else:\n",
    "        optimal_visits[current_position] = {}\n",
    "    \n",
    "    optimal_visits[current_position][optimal_visits_key] = next_heat      # EITHER NEW KEY OR IMPROVING KNOWN HEAT\n",
    "\n",
    "    next_direction_list = list(opposite_direction.keys())\n",
    "    next_direction_list.remove(opposite_direction[current_direction])\n",
    "    if current_streak == 10:                             # SAME DIRECTION CANNOT GO BEYOND STREAK 3\n",
    "        next_direction_list.remove(current_direction)\n",
    "    if current_streak < 4:\n",
    "        next_direction_list = [current_direction]\n",
    "    if current_position[0] == np_map.shape[0] and current_position[1] == np_map.shape[1]:   # WE DO NOT MOVE AWAY FROM FINAL CASE\n",
    "        next_direction_list = []\n",
    "    \n",
    "    for next_direction in next_direction_list:\n",
    "        next_position = tuple(np.add(current_position, next_movement[next_direction]))\n",
    "        if (next_position[0] < 0) or (next_position[0] >= len(map) or next_position[1] < 0 or next_position[1] >= len(map[0])): # DO NOT PURSUE OUT OF BOUNDS POSITION\n",
    "            continue\n",
    "        if next_position in current_pathsofar:  # DO NOT BACKTRACK\n",
    "            continue\n",
    "\n",
    "        if next_direction == current_direction:\n",
    "            next_streak = current_streak + 1\n",
    "        else:\n",
    "            next_streak = 1\n",
    "        \n",
    "        next_pathsofar = current_pathsofar.copy()\n",
    "        next_pathsofar.append(next_position)\n",
    "\n",
    "        active_paths.append((next_position,next_direction,next_streak,next_heat,next_pathsofar))"
   ]
  },
  {
   "cell_type": "code",
   "execution_count": 78,
   "metadata": {},
   "outputs": [
    {
     "name": "stdout",
     "output_type": "stream",
     "text": [
      "1256\n",
      "1382\n"
     ]
    }
   ],
   "source": [
    "import heapq\n",
    "def minimal_heat(start, end, least, most):\n",
    "    queue = [(0, *start, 0,0)]\n",
    "    seen = set()\n",
    "    while queue:\n",
    "        heat,x,y,px,py = heapq.heappop(queue)\n",
    "        if (x,y) == end: return heat\n",
    "        if (x,y, px,py) in seen: continue\n",
    "        seen.add((x,y, px,py))\n",
    "        # calculate turns only\n",
    "        for dx,dy in {(1,0),(0,1),(-1,0),(0,-1)}-{(px,py),(-px,-py)}:\n",
    "            a,b,h = x,y,heat\n",
    "            # enter 4-10 moves in the chosen direction\n",
    "            for i in range(1,most+1):\n",
    "                a,b=a+dx,b+dy\n",
    "                if (a,b) in board:\n",
    "                    h += board[a,b]\n",
    "                    if i>=least:\n",
    "                        heapq.heappush(queue, (h, a,b, dx,dy))\n",
    "\n",
    "board = {(i,j): int(c) for i,r in enumerate(open('input.txt')) for j,c in enumerate(r.strip())}\n",
    "print(minimal_heat((0,0),max(board), 1, 3))\n",
    "print(minimal_heat((0,0),max(board), 4, 10))"
   ]
  },
  {
   "cell_type": "code",
   "execution_count": null,
   "metadata": {},
   "outputs": [],
   "source": []
  }
 ],
 "metadata": {
  "kernelspec": {
   "display_name": "geodiag",
   "language": "python",
   "name": "python3"
  },
  "language_info": {
   "codemirror_mode": {
    "name": "ipython",
    "version": 3
   },
   "file_extension": ".py",
   "mimetype": "text/x-python",
   "name": "python",
   "nbconvert_exporter": "python",
   "pygments_lexer": "ipython3",
   "version": "3.8.10"
  }
 },
 "nbformat": 4,
 "nbformat_minor": 2
}
