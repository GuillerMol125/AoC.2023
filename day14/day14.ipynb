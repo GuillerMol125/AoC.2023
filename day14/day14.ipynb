{
 "cells": [
  {
   "cell_type": "code",
   "execution_count": 1,
   "metadata": {},
   "outputs": [],
   "source": [
    "import pandas as pd\n",
    "import numpy as np\n",
    "import os, sys\n",
    "import math\n",
    "import copy"
   ]
  },
  {
   "cell_type": "markdown",
   "metadata": {},
   "source": [
    "## PROCESS FIRST SAMPLE"
   ]
  },
  {
   "cell_type": "code",
   "execution_count": 2,
   "metadata": {},
   "outputs": [],
   "source": [
    "input = [\"O....#....\",\n",
    "\"O.OO#....#\",\n",
    "\".....##...\",\n",
    "\"OO.#O....O\",\n",
    "\".O.....O#.\",\n",
    "\"O.#..O.#.#\",\n",
    "\"..O..#O..O\",\n",
    "\".......O..\",\n",
    "\"#....###..\",\n",
    "\"#OO..#....\"]"
   ]
  },
  {
   "cell_type": "code",
   "execution_count": 4,
   "metadata": {},
   "outputs": [
    {
     "data": {
      "text/plain": [
       "array([[1, 0, 0, 0, 0, 2, 0, 0, 0, 0],\n",
       "       [1, 0, 1, 1, 2, 0, 0, 0, 0, 2],\n",
       "       [0, 0, 0, 0, 0, 2, 2, 0, 0, 0],\n",
       "       [1, 1, 0, 2, 1, 0, 0, 0, 0, 1],\n",
       "       [0, 1, 0, 0, 0, 0, 0, 1, 2, 0],\n",
       "       [1, 0, 2, 0, 0, 1, 0, 2, 0, 2],\n",
       "       [0, 0, 1, 0, 0, 2, 1, 0, 0, 1],\n",
       "       [0, 0, 0, 0, 0, 0, 0, 1, 0, 0],\n",
       "       [2, 0, 0, 0, 0, 2, 2, 2, 0, 0],\n",
       "       [2, 1, 1, 0, 0, 2, 0, 0, 0, 0]])"
      ]
     },
     "execution_count": 4,
     "metadata": {},
     "output_type": "execute_result"
    }
   ],
   "source": [
    "mapping = {'O':1, '.':0, '#':2}\n",
    "panel = []\n",
    "for line in input:\n",
    "    row = [mapping[x] for x in line]\n",
    "    panel.append(row)\n",
    "np_panel = np.array(panel)\n",
    "np_panel"
   ]
  },
  {
   "cell_type": "code",
   "execution_count": 55,
   "metadata": {},
   "outputs": [],
   "source": [
    "def move_up(panel):\n",
    "    num_rows, num_cols  = panel.shape\n",
    "    for col in range(num_cols):\n",
    "        row = 0\n",
    "        next_row = 0\n",
    "        while row < num_rows - 1:\n",
    "            #print(f'Checking space in row {row} col {col}')\n",
    "            if panel[row,col] == 0:\n",
    "                next_row = max(next_row, row + 1)\n",
    "                while panel[next_row, col] == 0 and next_row < num_rows - 1:\n",
    "                    next_row += 1\n",
    "                if panel[next_row,col] == 2: # FOUND FIXED ROCK, RESUME FROM THE POSITION AFTER THAT AND NO ROCK FALLS\n",
    "                    row = next_row + 1\n",
    "                if panel[next_row,col] == 0: # REACHED THE END IN A WHITE SPACE, JUMP TO THE END\n",
    "                    row = next_row + 1\n",
    "                if panel[next_row,col] == 1: # FOUND FALLING ROCK, IT FALLS AND WE MOVE UP 1\n",
    "                    panel[row,col] = 1\n",
    "                    panel[next_row,col] = 0\n",
    "                    row += 1\n",
    "            else:\n",
    "                row += 1\n",
    "    return panel\n",
    "\n",
    "def compute_weight(panel):\n",
    "    num_rows, num_cols = panel.shape\n",
    "    weight = 0\n",
    "    for row in range(num_rows):\n",
    "        row_weight = np.sum(panel[row,:] == 1)*(num_rows-row)\n",
    "        #print(f'Checking row {row} with unit weight {num_rows - row}: {row_weight}')\n",
    "        weight += row_weight\n",
    "    return weight\n"
   ]
  },
  {
   "cell_type": "code",
   "execution_count": 38,
   "metadata": {},
   "outputs": [
    {
     "name": "stdout",
     "output_type": "stream",
     "text": [
      "Checking row 0 with unit weight 100\n",
      "Checking row 1 with unit weight 99\n",
      "Checking row 2 with unit weight 98\n",
      "Checking row 3 with unit weight 97\n",
      "Checking row 4 with unit weight 96\n",
      "Checking row 5 with unit weight 95\n",
      "Checking row 6 with unit weight 94\n",
      "Checking row 7 with unit weight 93\n",
      "Checking row 8 with unit weight 92\n",
      "Checking row 9 with unit weight 91\n",
      "Checking row 10 with unit weight 90\n",
      "Checking row 11 with unit weight 89\n",
      "Checking row 12 with unit weight 88\n",
      "Checking row 13 with unit weight 87\n",
      "Checking row 14 with unit weight 86\n",
      "Checking row 15 with unit weight 85\n",
      "Checking row 16 with unit weight 84\n",
      "Checking row 17 with unit weight 83\n",
      "Checking row 18 with unit weight 82\n",
      "Checking row 19 with unit weight 81\n",
      "Checking row 20 with unit weight 80\n",
      "Checking row 21 with unit weight 79\n",
      "Checking row 22 with unit weight 78\n",
      "Checking row 23 with unit weight 77\n",
      "Checking row 24 with unit weight 76\n",
      "Checking row 25 with unit weight 75\n",
      "Checking row 26 with unit weight 74\n",
      "Checking row 27 with unit weight 73\n",
      "Checking row 28 with unit weight 72\n",
      "Checking row 29 with unit weight 71\n",
      "Checking row 30 with unit weight 70\n",
      "Checking row 31 with unit weight 69\n",
      "Checking row 32 with unit weight 68\n",
      "Checking row 33 with unit weight 67\n",
      "Checking row 34 with unit weight 66\n",
      "Checking row 35 with unit weight 65\n",
      "Checking row 36 with unit weight 64\n",
      "Checking row 37 with unit weight 63\n",
      "Checking row 38 with unit weight 62\n",
      "Checking row 39 with unit weight 61\n",
      "Checking row 40 with unit weight 60\n",
      "Checking row 41 with unit weight 59\n",
      "Checking row 42 with unit weight 58\n",
      "Checking row 43 with unit weight 57\n",
      "Checking row 44 with unit weight 56\n",
      "Checking row 45 with unit weight 55\n",
      "Checking row 46 with unit weight 54\n",
      "Checking row 47 with unit weight 53\n",
      "Checking row 48 with unit weight 52\n",
      "Checking row 49 with unit weight 51\n",
      "Checking row 50 with unit weight 50\n",
      "Checking row 51 with unit weight 49\n",
      "Checking row 52 with unit weight 48\n",
      "Checking row 53 with unit weight 47\n",
      "Checking row 54 with unit weight 46\n",
      "Checking row 55 with unit weight 45\n",
      "Checking row 56 with unit weight 44\n",
      "Checking row 57 with unit weight 43\n",
      "Checking row 58 with unit weight 42\n",
      "Checking row 59 with unit weight 41\n",
      "Checking row 60 with unit weight 40\n",
      "Checking row 61 with unit weight 39\n",
      "Checking row 62 with unit weight 38\n",
      "Checking row 63 with unit weight 37\n",
      "Checking row 64 with unit weight 36\n",
      "Checking row 65 with unit weight 35\n",
      "Checking row 66 with unit weight 34\n",
      "Checking row 67 with unit weight 33\n",
      "Checking row 68 with unit weight 32\n",
      "Checking row 69 with unit weight 31\n",
      "Checking row 70 with unit weight 30\n",
      "Checking row 71 with unit weight 29\n",
      "Checking row 72 with unit weight 28\n",
      "Checking row 73 with unit weight 27\n",
      "Checking row 74 with unit weight 26\n",
      "Checking row 75 with unit weight 25\n",
      "Checking row 76 with unit weight 24\n",
      "Checking row 77 with unit weight 23\n",
      "Checking row 78 with unit weight 22\n",
      "Checking row 79 with unit weight 21\n",
      "Checking row 80 with unit weight 20\n",
      "Checking row 81 with unit weight 19\n",
      "Checking row 82 with unit weight 18\n",
      "Checking row 83 with unit weight 17\n",
      "Checking row 84 with unit weight 16\n",
      "Checking row 85 with unit weight 15\n",
      "Checking row 86 with unit weight 14\n",
      "Checking row 87 with unit weight 13\n",
      "Checking row 88 with unit weight 12\n",
      "Checking row 89 with unit weight 11\n",
      "Checking row 90 with unit weight 10\n",
      "Checking row 91 with unit weight 9\n",
      "Checking row 92 with unit weight 8\n",
      "Checking row 93 with unit weight 7\n",
      "Checking row 94 with unit weight 6\n",
      "Checking row 95 with unit weight 5\n",
      "Checking row 96 with unit weight 4\n",
      "Checking row 97 with unit weight 3\n",
      "Checking row 98 with unit weight 2\n",
      "Checking row 99 with unit weight 1\n",
      "113523\n"
     ]
    },
    {
     "data": {
      "text/plain": [
       "array([[1, 1, 1, ..., 1, 0, 1],\n",
       "       [1, 1, 1, ..., 1, 0, 1],\n",
       "       [0, 1, 1, ..., 0, 0, 1],\n",
       "       ...,\n",
       "       [0, 0, 0, ..., 0, 0, 2],\n",
       "       [0, 0, 0, ..., 2, 2, 2],\n",
       "       [0, 0, 0, ..., 1, 0, 0]])"
      ]
     },
     "execution_count": 38,
     "metadata": {},
     "output_type": "execute_result"
    }
   ],
   "source": [
    "np_panel_shift = np_panel.copy()\n",
    "np_panel_shift = move_up(np_panel_shift)\n",
    "print(compute_weight(np_panel_shift))\n",
    "np_panel_shift"
   ]
  },
  {
   "cell_type": "markdown",
   "metadata": {},
   "source": [
    "## PROCESS PART 1"
   ]
  },
  {
   "cell_type": "code",
   "execution_count": 39,
   "metadata": {},
   "outputs": [],
   "source": [
    "# READ FILE\n",
    "inputfilepath = './input.txt'\n",
    "\n",
    "input = []\n",
    "with open(inputfilepath,'r') as f:\n",
    "    for line in f:\n",
    "        input.append(line.rstrip())"
   ]
  },
  {
   "cell_type": "code",
   "execution_count": 44,
   "metadata": {},
   "outputs": [
    {
     "name": "stdout",
     "output_type": "stream",
     "text": [
      "(100, 100)\n"
     ]
    },
    {
     "data": {
      "text/plain": [
       "array([[1, 0, 0, ..., 0, 0, 1],\n",
       "       [0, 1, 1, ..., 1, 0, 1],\n",
       "       [0, 0, 0, ..., 0, 0, 0],\n",
       "       ...,\n",
       "       [0, 0, 0, ..., 1, 0, 2],\n",
       "       [0, 0, 0, ..., 2, 2, 2],\n",
       "       [1, 0, 0, ..., 1, 0, 0]])"
      ]
     },
     "execution_count": 44,
     "metadata": {},
     "output_type": "execute_result"
    }
   ],
   "source": [
    "mapping = {'O':1, '.':0, '#':2}\n",
    "panel = []\n",
    "for line in input:\n",
    "    row = [mapping[x] for x in line]\n",
    "    panel.append(row)\n",
    "np_panel = np.array(panel)\n",
    "print(np_panel.shape)\n",
    "np_panel"
   ]
  },
  {
   "cell_type": "code",
   "execution_count": 49,
   "metadata": {},
   "outputs": [
    {
     "name": "stdout",
     "output_type": "stream",
     "text": [
      "Checking row 0 with unit weight 100: 6000\n",
      "Checking row 1 with unit weight 99: 4356\n",
      "Checking row 2 with unit weight 98: 3234\n",
      "Checking row 3 with unit weight 97: 2425\n",
      "Checking row 4 with unit weight 96: 1824\n",
      "Checking row 5 with unit weight 95: 1330\n",
      "Checking row 6 with unit weight 94: 1786\n",
      "Checking row 7 with unit weight 93: 1488\n",
      "Checking row 8 with unit weight 92: 2116\n",
      "Checking row 9 with unit weight 91: 1820\n",
      "Checking row 10 with unit weight 90: 1800\n",
      "Checking row 11 with unit weight 89: 1780\n",
      "Checking row 12 with unit weight 88: 1760\n",
      "Checking row 13 with unit weight 87: 1566\n",
      "Checking row 14 with unit weight 86: 1634\n",
      "Checking row 15 with unit weight 85: 1700\n",
      "Checking row 16 with unit weight 84: 2184\n",
      "Checking row 17 with unit weight 83: 1660\n",
      "Checking row 18 with unit weight 82: 2296\n",
      "Checking row 19 with unit weight 81: 2349\n",
      "Checking row 20 with unit weight 80: 2000\n",
      "Checking row 21 with unit weight 79: 2054\n",
      "Checking row 22 with unit weight 78: 1950\n",
      "Checking row 23 with unit weight 77: 1925\n",
      "Checking row 24 with unit weight 76: 1520\n",
      "Checking row 25 with unit weight 75: 1725\n",
      "Checking row 26 with unit weight 74: 1554\n",
      "Checking row 27 with unit weight 73: 1606\n",
      "Checking row 28 with unit weight 72: 1368\n",
      "Checking row 29 with unit weight 71: 1207\n",
      "Checking row 30 with unit weight 70: 1610\n",
      "Checking row 31 with unit weight 69: 1380\n",
      "Checking row 32 with unit weight 68: 1156\n",
      "Checking row 33 with unit weight 67: 1072\n",
      "Checking row 34 with unit weight 66: 1056\n",
      "Checking row 35 with unit weight 65: 1755\n",
      "Checking row 36 with unit weight 64: 1088\n",
      "Checking row 37 with unit weight 63: 1197\n",
      "Checking row 38 with unit weight 62: 1302\n",
      "Checking row 39 with unit weight 61: 1769\n",
      "Checking row 40 with unit weight 60: 1320\n",
      "Checking row 41 with unit weight 59: 1180\n",
      "Checking row 42 with unit weight 58: 1450\n",
      "Checking row 43 with unit weight 57: 1368\n",
      "Checking row 44 with unit weight 56: 1344\n",
      "Checking row 45 with unit weight 55: 1100\n",
      "Checking row 46 with unit weight 54: 1296\n",
      "Checking row 47 with unit weight 53: 954\n",
      "Checking row 48 with unit weight 52: 1196\n",
      "Checking row 49 with unit weight 51: 663\n",
      "Checking row 50 with unit weight 50: 900\n",
      "Checking row 51 with unit weight 49: 980\n",
      "Checking row 52 with unit weight 48: 1104\n",
      "Checking row 53 with unit weight 47: 846\n",
      "Checking row 54 with unit weight 46: 1242\n",
      "Checking row 55 with unit weight 45: 720\n",
      "Checking row 56 with unit weight 44: 1012\n",
      "Checking row 57 with unit weight 43: 946\n",
      "Checking row 58 with unit weight 42: 504\n",
      "Checking row 59 with unit weight 41: 533\n",
      "Checking row 60 with unit weight 40: 760\n",
      "Checking row 61 with unit weight 39: 819\n",
      "Checking row 62 with unit weight 38: 798\n",
      "Checking row 63 with unit weight 37: 703\n",
      "Checking row 64 with unit weight 36: 756\n",
      "Checking row 65 with unit weight 35: 1015\n",
      "Checking row 66 with unit weight 34: 714\n",
      "Checking row 67 with unit weight 33: 660\n",
      "Checking row 68 with unit weight 32: 928\n",
      "Checking row 69 with unit weight 31: 620\n",
      "Checking row 70 with unit weight 30: 660\n",
      "Checking row 71 with unit weight 29: 667\n",
      "Checking row 72 with unit weight 28: 560\n",
      "Checking row 73 with unit weight 27: 486\n",
      "Checking row 74 with unit weight 26: 364\n",
      "Checking row 75 with unit weight 25: 525\n",
      "Checking row 76 with unit weight 24: 624\n",
      "Checking row 77 with unit weight 23: 782\n",
      "Checking row 78 with unit weight 22: 594\n",
      "Checking row 79 with unit weight 21: 546\n",
      "Checking row 80 with unit weight 20: 460\n",
      "Checking row 81 with unit weight 19: 399\n",
      "Checking row 82 with unit weight 18: 342\n",
      "Checking row 83 with unit weight 17: 238\n",
      "Checking row 84 with unit weight 16: 288\n",
      "Checking row 85 with unit weight 15: 300\n",
      "Checking row 86 with unit weight 14: 224\n",
      "Checking row 87 with unit weight 13: 221\n",
      "Checking row 88 with unit weight 12: 180\n",
      "Checking row 89 with unit weight 11: 176\n",
      "Checking row 90 with unit weight 10: 220\n",
      "Checking row 91 with unit weight 9: 180\n",
      "Checking row 92 with unit weight 8: 208\n",
      "Checking row 93 with unit weight 7: 161\n",
      "Checking row 94 with unit weight 6: 96\n",
      "Checking row 95 with unit weight 5: 65\n",
      "Checking row 96 with unit weight 4: 76\n",
      "Checking row 97 with unit weight 3: 33\n",
      "Checking row 98 with unit weight 2: 14\n",
      "Checking row 99 with unit weight 1: 3\n",
      "113525\n"
     ]
    },
    {
     "data": {
      "text/plain": [
       "array([[1, 1, 1, ..., 1, 0, 1],\n",
       "       [1, 1, 1, ..., 1, 0, 1],\n",
       "       [0, 1, 1, ..., 0, 0, 1],\n",
       "       ...,\n",
       "       [0, 0, 0, ..., 0, 0, 2],\n",
       "       [0, 0, 0, ..., 2, 2, 2],\n",
       "       [0, 0, 0, ..., 1, 0, 0]])"
      ]
     },
     "execution_count": 49,
     "metadata": {},
     "output_type": "execute_result"
    }
   ],
   "source": [
    "np_panel_shift = np_panel.copy()\n",
    "np_panel_shift = move_up(np_panel_shift)\n",
    "print(compute_weight(np_panel_shift))\n",
    "np_panel_shift"
   ]
  },
  {
   "cell_type": "markdown",
   "metadata": {},
   "source": [
    "## PROCESS SECOND SAMPLE"
   ]
  },
  {
   "cell_type": "code",
   "execution_count": 50,
   "metadata": {},
   "outputs": [],
   "source": [
    "input = [\"O....#....\",\n",
    "\"O.OO#....#\",\n",
    "\".....##...\",\n",
    "\"OO.#O....O\",\n",
    "\".O.....O#.\",\n",
    "\"O.#..O.#.#\",\n",
    "\"..O..#O..O\",\n",
    "\".......O..\",\n",
    "\"#....###..\",\n",
    "\"#OO..#....\"]"
   ]
  },
  {
   "cell_type": "code",
   "execution_count": 52,
   "metadata": {},
   "outputs": [
    {
     "name": "stdout",
     "output_type": "stream",
     "text": [
      "(10, 10)\n"
     ]
    },
    {
     "data": {
      "text/plain": [
       "array([[1, 0, 0, 0, 0, 2, 0, 0, 0, 0],\n",
       "       [1, 0, 1, 1, 2, 0, 0, 0, 0, 2],\n",
       "       [0, 0, 0, 0, 0, 2, 2, 0, 0, 0],\n",
       "       [1, 1, 0, 2, 1, 0, 0, 0, 0, 1],\n",
       "       [0, 1, 0, 0, 0, 0, 0, 1, 2, 0],\n",
       "       [1, 0, 2, 0, 0, 1, 0, 2, 0, 2],\n",
       "       [0, 0, 1, 0, 0, 2, 1, 0, 0, 1],\n",
       "       [0, 0, 0, 0, 0, 0, 0, 1, 0, 0],\n",
       "       [2, 0, 0, 0, 0, 2, 2, 2, 0, 0],\n",
       "       [2, 1, 1, 0, 0, 2, 0, 0, 0, 0]])"
      ]
     },
     "execution_count": 52,
     "metadata": {},
     "output_type": "execute_result"
    }
   ],
   "source": [
    "mapping = {'O':1, '.':0, '#':2}\n",
    "panel = []\n",
    "for line in input:\n",
    "    row = [mapping[x] for x in line]\n",
    "    panel.append(row)\n",
    "np_panel = np.array(panel)\n",
    "print(np_panel.shape)\n",
    "np_panel"
   ]
  },
  {
   "cell_type": "code",
   "execution_count": 53,
   "metadata": {},
   "outputs": [],
   "source": [
    "#NORTH, WEST, SOUTH, EAST\n",
    "def cycle(panel):\n",
    "    # NORTH\n",
    "    panel = move_up(panel)\n",
    "    # WEST\n",
    "    panel = np.rot90(panel,k=-1)\n",
    "    panel = move_up(panel)\n",
    "    # SOUTH \n",
    "    panel = np.rot90(panel,k=-1)\n",
    "    panel = move_up(panel)\n",
    "    # EAST\n",
    "    panel = np.rot90(panel,k=-1)\n",
    "    panel = move_up(panel)\n",
    "    # ROTATE BACK NORTH\n",
    "    panel = np.rot90(panel,k=-1)\n",
    "\n",
    "    return panel\n"
   ]
  },
  {
   "cell_type": "code",
   "execution_count": 69,
   "metadata": {},
   "outputs": [
    {
     "name": "stdout",
     "output_type": "stream",
     "text": [
      "Found cycle at iteration 10 of lenght 7\n",
      "69\n",
      "[[0 0 0 0 0 2 0 0 0 0]\n",
      " [0 0 0 0 2 0 0 0 1 2]\n",
      " [0 0 0 0 0 2 2 0 0 0]\n",
      " [0 0 1 2 0 0 0 0 0 0]\n",
      " [0 0 0 0 0 1 1 1 2 0]\n",
      " [0 1 2 0 0 0 1 2 0 2]\n",
      " [0 0 0 0 1 2 0 0 0 1]\n",
      " [0 0 0 0 0 0 0 1 1 1]\n",
      " [2 0 0 0 1 2 2 2 0 1]\n",
      " [2 0 1 1 1 2 0 0 0 1]]\n"
     ]
    }
   ],
   "source": [
    "np_panel_copy = np_panel.copy()\n",
    "positions_visited = {}\n",
    "\n",
    "for i in range(1,1_000_00):\n",
    "\n",
    "    np_panel_copy = cycle(np_panel_copy)\n",
    "\n",
    "    rock_idx = np.where(np_panel_copy == 1)\n",
    "    rock_idx_tuple = tuple(zip(rock_idx[0], rock_idx[1]))\n",
    "\n",
    "    if rock_idx_tuple in positions_visited.keys():        \n",
    "        cycle_lenght = i - positions_visited[rock_idx_tuple][0]\n",
    "        print(f'Found cycle at iteration {i} of lenght {cycle_lenght}')\n",
    "        break\n",
    "    else:\n",
    "        positions_visited[rock_idx_tuple] = (i, compute_weight(np_panel_copy))\n",
    "\n",
    "    if i % 1000 == 0:\n",
    "        print(f'Completed {i} cycles')\n",
    "\n",
    "print(compute_weight(np_panel_copy))\n",
    "print(np_panel_copy)"
   ]
  },
  {
   "cell_type": "code",
   "execution_count": 70,
   "metadata": {},
   "outputs": [
    {
     "data": {
      "text/plain": [
       "3"
      ]
     },
     "execution_count": 70,
     "metadata": {},
     "output_type": "execute_result"
    }
   ],
   "source": [
    "final_cycle = (1_000_000_000 - 10) % 7\n",
    "final_cycle"
   ]
  },
  {
   "cell_type": "code",
   "execution_count": 71,
   "metadata": {},
   "outputs": [
    {
     "data": {
      "text/plain": [
       "dict_values([(1, 87), (2, 69), (3, 69), (4, 69), (5, 65), (6, 64), (7, 65), (8, 63), (9, 68)])"
      ]
     },
     "execution_count": 71,
     "metadata": {},
     "output_type": "execute_result"
    }
   ],
   "source": [
    "positions_visited.values()"
   ]
  },
  {
   "cell_type": "markdown",
   "metadata": {},
   "source": [
    "## SECOND PART"
   ]
  },
  {
   "cell_type": "code",
   "execution_count": 72,
   "metadata": {},
   "outputs": [],
   "source": [
    "# READ FILE\n",
    "inputfilepath = './input.txt'\n",
    "\n",
    "input = []\n",
    "with open(inputfilepath,'r') as f:\n",
    "    for line in f:\n",
    "        input.append(line.rstrip())"
   ]
  },
  {
   "cell_type": "code",
   "execution_count": 73,
   "metadata": {},
   "outputs": [
    {
     "name": "stdout",
     "output_type": "stream",
     "text": [
      "(100, 100)\n"
     ]
    },
    {
     "data": {
      "text/plain": [
       "array([[1, 0, 0, ..., 0, 0, 1],\n",
       "       [0, 1, 1, ..., 1, 0, 1],\n",
       "       [0, 0, 0, ..., 0, 0, 0],\n",
       "       ...,\n",
       "       [0, 0, 0, ..., 1, 0, 2],\n",
       "       [0, 0, 0, ..., 2, 2, 2],\n",
       "       [1, 0, 0, ..., 1, 0, 0]])"
      ]
     },
     "execution_count": 73,
     "metadata": {},
     "output_type": "execute_result"
    }
   ],
   "source": [
    "mapping = {'O':1, '.':0, '#':2}\n",
    "panel = []\n",
    "for line in input:\n",
    "    row = [mapping[x] for x in line]\n",
    "    panel.append(row)\n",
    "np_panel = np.array(panel)\n",
    "print(np_panel.shape)\n",
    "np_panel"
   ]
  },
  {
   "cell_type": "code",
   "execution_count": 74,
   "metadata": {},
   "outputs": [
    {
     "name": "stdout",
     "output_type": "stream",
     "text": [
      "Found cycle at iteration 178 of lenght 84\n",
      "101369\n",
      "[[0 0 0 ... 1 1 1]\n",
      " [0 0 0 ... 1 1 1]\n",
      " [0 0 0 ... 0 0 1]\n",
      " ...\n",
      " [0 0 0 ... 0 0 2]\n",
      " [0 0 0 ... 2 2 2]\n",
      " [0 0 0 ... 0 0 1]]\n"
     ]
    }
   ],
   "source": [
    "np_panel_copy = np_panel.copy()\n",
    "positions_visited = {}\n",
    "\n",
    "for i in range(1,1_000_00):\n",
    "\n",
    "    np_panel_copy = cycle(np_panel_copy)\n",
    "\n",
    "    rock_idx = np.where(np_panel_copy == 1)\n",
    "    rock_idx_tuple = tuple(zip(rock_idx[0], rock_idx[1]))\n",
    "\n",
    "    if rock_idx_tuple in positions_visited.keys():        \n",
    "        cycle_lenght = i - positions_visited[rock_idx_tuple][0]\n",
    "        print(f'Found cycle at iteration {i} of lenght {cycle_lenght}')\n",
    "        break\n",
    "    else:\n",
    "        positions_visited[rock_idx_tuple] = (i, compute_weight(np_panel_copy))\n",
    "\n",
    "    if i % 1000 == 0:\n",
    "        print(f'Completed {i} cycles')\n",
    "\n",
    "print(compute_weight(np_panel_copy))\n",
    "print(np_panel_copy)"
   ]
  },
  {
   "cell_type": "code",
   "execution_count": 75,
   "metadata": {},
   "outputs": [
    {
     "data": {
      "text/plain": [
       "66"
      ]
     },
     "execution_count": 75,
     "metadata": {},
     "output_type": "execute_result"
    }
   ],
   "source": [
    "final_cycle = (1_000_000_000 - 178) % 84\n",
    "final_cycle"
   ]
  },
  {
   "cell_type": "code",
   "execution_count": 79,
   "metadata": {},
   "outputs": [
    {
     "data": {
      "text/plain": [
       "160"
      ]
     },
     "execution_count": 79,
     "metadata": {},
     "output_type": "execute_result"
    }
   ],
   "source": [
    "wanted_position = 178 - 84 + 66\n",
    "wanted_position"
   ]
  },
  {
   "cell_type": "code",
   "execution_count": 80,
   "metadata": {},
   "outputs": [
    {
     "name": "stdout",
     "output_type": "stream",
     "text": [
      "(160, 101292)\n"
     ]
    }
   ],
   "source": [
    "for position in positions_visited.values():\n",
    "    if position[0] == wanted_position:\n",
    "        print(position)"
   ]
  },
  {
   "cell_type": "code",
   "execution_count": null,
   "metadata": {},
   "outputs": [],
   "source": []
  }
 ],
 "metadata": {
  "kernelspec": {
   "display_name": "geodiag",
   "language": "python",
   "name": "python3"
  },
  "language_info": {
   "codemirror_mode": {
    "name": "ipython",
    "version": 3
   },
   "file_extension": ".py",
   "mimetype": "text/x-python",
   "name": "python",
   "nbconvert_exporter": "python",
   "pygments_lexer": "ipython3",
   "version": "3.8.10"
  }
 },
 "nbformat": 4,
 "nbformat_minor": 2
}
