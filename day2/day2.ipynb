{
 "cells": [
  {
   "cell_type": "markdown",
   "metadata": {},
   "source": [
    "## SAMPLE INPUT PROCESSING"
   ]
  },
  {
   "cell_type": "code",
   "execution_count": 1,
   "metadata": {},
   "outputs": [],
   "source": [
    "import pandas as pd\n",
    "import numpy as np\n",
    "import os, sys"
   ]
  },
  {
   "cell_type": "code",
   "execution_count": 46,
   "metadata": {},
   "outputs": [],
   "source": [
    "sample_input = [\"Game 1: 3 blue, 4 red; 1 red, 2 green, 6 blue; 2 green\",\n",
    "\"Game 2: 1 blue, 2 green; 3 green, 4 blue, 1 red; 1 green, 1 blue\",\n",
    "\"Game 3: 8 green, 6 blue, 20 red; 5 blue, 4 red, 13 green; 5 green, 1 red\",\n",
    "\"Game 4: 1 green, 3 red, 6 blue; 3 green, 6 red; 3 green, 15 blue, 14 red\",\n",
    "\"Game 5: 6 red, 1 blue, 3 green; 2 blue, 1 red, 2 green\"]\n",
    "\n",
    "max_cubes = {'red': 12, 'green':13, 'blue':14}"
   ]
  },
  {
   "cell_type": "code",
   "execution_count": 47,
   "metadata": {},
   "outputs": [],
   "source": [
    "def process_line(line):\n",
    "\n",
    "    [game_n, hands] = line.split(':')\n",
    "    game_n = int(game_n.replace('Game ',''))\n",
    "    hands = hands.split(';')\n",
    "    hand_list = []\n",
    "    for hand_i in hands:\n",
    "        items = hand_i.split(',')\n",
    "        hand_dict = {}\n",
    "        for item_i in items:\n",
    "            try:\n",
    "                [count_color, color] = item_i.lstrip().split()\n",
    "            except ValueError:\n",
    "                print(f'Error unpacking {item_i}')\n",
    "            hand_dict[color] = int(count_color)\n",
    "        hand_list.append(hand_dict)\n",
    "    return game_n, hand_list\n"
   ]
  },
  {
   "cell_type": "code",
   "execution_count": 48,
   "metadata": {},
   "outputs": [
    {
     "name": "stdout",
     "output_type": "stream",
     "text": [
      "{1: [{'blue': 3, 'red': 4}, {'red': 1, 'green': 2, 'blue': 6}, {'green': 2}], 2: [{'blue': 1, 'green': 2}, {'green': 3, 'blue': 4, 'red': 1}, {'green': 1, 'blue': 1}], 3: [{'green': 8, 'blue': 6, 'red': 20}, {'blue': 5, 'red': 4, 'green': 13}, {'green': 5, 'red': 1}], 4: [{'green': 1, 'red': 3, 'blue': 6}, {'green': 3, 'red': 6}, {'green': 3, 'blue': 15, 'red': 14}], 5: [{'red': 6, 'blue': 1, 'green': 3}, {'blue': 2, 'red': 1, 'green': 2}]}\n"
     ]
    }
   ],
   "source": [
    "game_dict = {}\n",
    "for line in sample_input:\n",
    "    game_n, hand_list = process_line(line)\n",
    "    game_dict[game_n] = hand_list\n",
    "print(game_dict)"
   ]
  },
  {
   "cell_type": "code",
   "execution_count": 53,
   "metadata": {},
   "outputs": [],
   "source": [
    "def invalid_hand(hand, max_cubes):\n",
    "    for color, count in hand.items():\n",
    "        if count > max_cubes[color]:\n",
    "            print(f'Too many {color} : {str(count)}')\n",
    "            return True\n",
    "    return False"
   ]
  },
  {
   "cell_type": "code",
   "execution_count": 54,
   "metadata": {},
   "outputs": [
    {
     "name": "stdout",
     "output_type": "stream",
     "text": [
      "Too many red : 20\n",
      "Invalid hand {'green': 8, 'blue': 6, 'red': 20}\n",
      "Too many blue : 15\n",
      "Invalid hand {'green': 3, 'blue': 15, 'red': 14}\n"
     ]
    }
   ],
   "source": [
    "# CHECK GAMES\n",
    "valid_games = []\n",
    "for game_n, hands in game_dict.items():\n",
    "    for hand_i in hands:\n",
    "        if invalid_hand(hand_i, max_cubes):\n",
    "            print(f'Invalid hand {hand_i}')\n",
    "            break\n",
    "    else:\n",
    "        valid_games.append(game_n)"
   ]
  },
  {
   "cell_type": "code",
   "execution_count": 55,
   "metadata": {},
   "outputs": [
    {
     "data": {
      "text/plain": [
       "([1, 2, 5], 8)"
      ]
     },
     "execution_count": 55,
     "metadata": {},
     "output_type": "execute_result"
    }
   ],
   "source": [
    "valid_games, sum(valid_games)"
   ]
  },
  {
   "cell_type": "markdown",
   "metadata": {},
   "source": [
    "## PROCESS FIRST PART"
   ]
  },
  {
   "cell_type": "code",
   "execution_count": 56,
   "metadata": {},
   "outputs": [
    {
     "name": "stdout",
     "output_type": "stream",
     "text": [
      "{1: [{'red': 1, 'blue': 10, 'green': 5}, {'blue': 11, 'green': 6}, {'green': 6}, {'green': 1, 'red': 1, 'blue': 12}, {'blue': 3}, {'blue': 3, 'green': 4, 'red': 1}], 2: [{'red': 3, 'green': 5}, {'green': 5, 'red': 7}, {'blue': 1, 'red': 7, 'green': 3}, {'red': 3, 'blue': 2}, {'green': 5, 'red': 4}], 3: [{'blue': 4, 'green': 4}, {'green': 2, 'blue': 2}, {'green': 8, 'red': 2, 'blue': 3}], 4: [{'blue': 3, 'green': 15}, {'green': 16}, {'red': 2, 'green': 7}, {'blue': 2, 'green': 14}], 5: [{'green': 8, 'red': 6, 'blue': 16}, {'red': 8, 'green': 12}, {'red': 1, 'green': 9, 'blue': 16}, {'red': 8, 'green': 3}, {'blue': 2, 'red': 5, 'green': 10}, {'red': 15, 'blue': 4, 'green': 8}], 6: [{'blue': 5, 'green': 2}, {'red': 6, 'green': 3}, {'green': 4, 'blue': 4, 'red': 2}, {'blue': 14, 'red': 2}], 7: [{'green': 2, 'blue': 6, 'red': 1}, {'blue': 2, 'red': 1}, {'blue': 8}, {'blue': 5, 'green': 1}, {'blue': 6, 'red': 1}, {'blue': 2}], 8: [{'red': 1, 'blue': 10, 'green': 1}, {'blue': 6, 'red': 1}, {'blue': 3, 'green': 2}, {'red': 1, 'blue': 1, 'green': 3}, {'blue': 13}, {'blue': 10, 'green': 3, 'red': 3}], 9: [{'blue': 2}, {'green': 8, 'blue': 3}, {'green': 4}, {'green': 14, 'red': 1, 'blue': 2}, {'blue': 3, 'red': 1, 'green': 12}], 10: [{'blue': 1, 'green': 7}, {'red': 1, 'green': 3, 'blue': 5}, {'blue': 1, 'green': 5, 'red': 1}, {'green': 13, 'blue': 5, 'red': 2}], 11: [{'green': 1, 'red': 10, 'blue': 6}, {'red': 15, 'blue': 12}, {'red': 18, 'green': 1, 'blue': 1}], 12: [{'red': 16, 'blue': 8, 'green': 1}, {'red': 15, 'blue': 3, 'green': 1}, {'red': 5}], 13: [{'red': 6, 'blue': 7, 'green': 7}, {'blue': 3, 'red': 4, 'green': 13}, {'blue': 1, 'red': 6, 'green': 11}, {'red': 2, 'blue': 1, 'green': 14}, {'green': 8, 'blue': 5, 'red': 2}, {'blue': 4, 'green': 18, 'red': 4}], 14: [{'red': 16, 'blue': 3, 'green': 1}, {'green': 7, 'red': 3}, {'red': 16, 'green': 15, 'blue': 3}, {'blue': 3, 'red': 13, 'green': 10}], 15: [{'blue': 1, 'red': 1}, {'blue': 3, 'green': 2}, {'red': 1}, {'red': 2, 'green': 2, 'blue': 3}, {'blue': 3, 'red': 1, 'green': 3}], 16: [{'red': 9, 'blue': 3}, {'red': 13, 'blue': 9}, {'blue': 9, 'red': 10}, {'red': 5, 'blue': 10, 'green': 1}, {'red': 2, 'green': 6, 'blue': 8}, {'green': 6, 'red': 13, 'blue': 5}], 17: [{'red': 15, 'green': 17, 'blue': 8}, {'red': 18, 'blue': 16, 'green': 15}, {'blue': 8, 'green': 17, 'red': 10}, {'green': 5, 'red': 3, 'blue': 12}], 18: [{'blue': 2, 'red': 11, 'green': 2}, {'green': 1, 'red': 11, 'blue': 11}, {'red': 1, 'blue': 4}, {'blue': 10, 'red': 9}, {'blue': 1, 'red': 7}], 19: [{'blue': 2, 'green': 3, 'red': 5}, {'blue': 8, 'green': 16}, {'red': 12, 'blue': 7, 'green': 8}, {'green': 9, 'blue': 1}, {'red': 3, 'green': 16, 'blue': 10}], 20: [{'blue': 3, 'green': 5, 'red': 6}, {'red': 2, 'blue': 8, 'green': 7}, {'green': 7, 'blue': 3}, {'red': 2, 'blue': 11}, {'green': 1, 'red': 6, 'blue': 3}], 21: [{'red': 16, 'blue': 3, 'green': 8}, {'red': 10, 'blue': 15, 'green': 3}, {'green': 6, 'red': 13, 'blue': 15}, {'green': 11, 'blue': 13, 'red': 10}], 22: [{'green': 8, 'blue': 1}, {'blue': 2, 'green': 9, 'red': 3}, {'red': 2, 'blue': 2}, {'red': 1, 'blue': 3, 'green': 8}, {'blue': 2, 'green': 1}, {'green': 1, 'blue': 2}], 23: [{'blue': 2, 'red': 8, 'green': 5}, {'green': 9, 'blue': 2}, {'red': 10, 'green': 2}, {'red': 12, 'blue': 1}, {'green': 11, 'blue': 2, 'red': 13}, {'green': 7}], 24: [{'red': 6}, {'green': 13, 'red': 7, 'blue': 10}, {'green': 7, 'red': 9, 'blue': 1}, {'blue': 3, 'green': 2, 'red': 2}], 25: [{'green': 7, 'red': 1, 'blue': 2}, {'green': 8, 'blue': 2, 'red': 5}, {'blue': 5, 'green': 8, 'red': 4}, {'blue': 5, 'green': 2, 'red': 1}, {'green': 5, 'red': 3, 'blue': 7}, {'blue': 3, 'green': 6, 'red': 1}], 26: [{'green': 6, 'red': 3}, {'blue': 1, 'green': 2, 'red': 2}, {'green': 2, 'red': 2, 'blue': 3}, {'blue': 4, 'red': 8, 'green': 2}, {'red': 1, 'green': 1, 'blue': 1}, {'red': 6, 'blue': 5}], 27: [{'green': 4, 'blue': 13, 'red': 2}, {'red': 2, 'green': 7, 'blue': 10}, {'blue': 14, 'green': 11, 'red': 1}, {'blue': 10, 'green': 15}], 28: [{'green': 4, 'red': 13, 'blue': 7}, {'red': 2, 'blue': 5}, {'blue': 5, 'green': 4}], 29: [{'green': 6, 'red': 15}, {'blue': 1, 'red': 6, 'green': 8}, {'green': 6, 'blue': 1}, {'red': 12}, {'green': 1, 'red': 7, 'blue': 1}], 30: [{'blue': 4, 'green': 4, 'red': 2}, {'blue': 6, 'red': 9, 'green': 20}, {'blue': 9, 'red': 4, 'green': 2}, {'red': 8, 'blue': 8, 'green': 1}, {'green': 6, 'blue': 12, 'red': 2}, {'green': 8, 'red': 8}], 31: [{'blue': 9}, {'red': 1, 'blue': 2, 'green': 5}, {'blue': 2, 'red': 2, 'green': 9}, {'blue': 2, 'red': 1, 'green': 8}, {'green': 11, 'red': 2, 'blue': 3}, {'green': 7, 'blue': 5}], 32: [{'red': 15, 'green': 5}, {'green': 4, 'blue': 2, 'red': 3}, {'blue': 1, 'red': 9}, {'blue': 1, 'red': 15}, {'blue': 4, 'red': 2, 'green': 8}, {'green': 3, 'blue': 3}], 33: [{'blue': 13, 'red': 1, 'green': 1}, {'blue': 8, 'red': 6}, {'blue': 4, 'red': 2}], 34: [{'blue': 5, 'red': 9, 'green': 7}, {'red': 8, 'green': 6, 'blue': 5}, {'blue': 2, 'green': 7, 'red': 12}], 35: [{'blue': 4, 'red': 15}, {'green': 1, 'blue': 10, 'red': 7}, {'red': 9, 'green': 3, 'blue': 1}, {'red': 13, 'blue': 9}, {'blue': 3, 'red': 2}], 36: [{'blue': 4, 'green': 18, 'red': 2}, {'green': 5, 'blue': 6, 'red': 11}, {'red': 6, 'blue': 12, 'green': 14}, {'green': 19, 'blue': 10, 'red': 7}, {'red': 7, 'green': 8, 'blue': 9}], 37: [{'blue': 16, 'green': 5, 'red': 18}, {'blue': 3, 'green': 14, 'red': 1}, {'blue': 4, 'green': 3, 'red': 14}, {'green': 12, 'red': 7, 'blue': 15}, {'green': 15, 'blue': 11, 'red': 2}, {'blue': 8, 'green': 13, 'red': 6}], 38: [{'red': 6, 'blue': 4, 'green': 12}, {'red': 3, 'blue': 11}, {'green': 16, 'blue': 2, 'red': 8}, {'blue': 4, 'red': 11, 'green': 4}, {'green': 17, 'red': 7, 'blue': 10}, {'blue': 9, 'green': 15, 'red': 1}], 39: [{'green': 1, 'red': 1, 'blue': 10}, {'red': 1, 'blue': 5, 'green': 2}, {'red': 4, 'blue': 7}, {'red': 9, 'green': 6, 'blue': 5}, {'green': 1, 'blue': 2, 'red': 9}], 40: [{'blue': 13, 'red': 11, 'green': 12}, {'green': 8, 'red': 11, 'blue': 4}, {'blue': 2, 'green': 2, 'red': 12}, {'green': 2, 'red': 3, 'blue': 13}, {'blue': 13, 'red': 6, 'green': 2}, {'green': 4, 'red': 6, 'blue': 8}], 41: [{'red': 12, 'green': 4, 'blue': 13}, {'red': 4, 'blue': 7, 'green': 10}, {'green': 17, 'red': 17, 'blue': 11}], 42: [{'red': 1, 'green': 1}, {'red': 1, 'green': 4}, {'blue': 1, 'red': 4, 'green': 4}, {'red': 3}, {'blue': 1, 'green': 3, 'red': 1}], 43: [{'blue': 7, 'green': 10}, {'blue': 5, 'green': 2}, {'blue': 2, 'green': 1, 'red': 4}, {'red': 14, 'green': 6, 'blue': 7}, {'green': 4, 'red': 14, 'blue': 8}, {'green': 4, 'red': 6}], 44: [{'green': 9, 'red': 4}, {'red': 4, 'green': 6}, {'red': 5, 'blue': 2, 'green': 7}, {'blue': 9, 'green': 1, 'red': 14}], 45: [{'blue': 20, 'red': 4, 'green': 6}, {'blue': 3, 'green': 1, 'red': 6}, {'blue': 8, 'green': 8, 'red': 11}], 46: [{'green': 1, 'red': 6}, {'red': 6, 'blue': 3, 'green': 3}, {'red': 6, 'blue': 3, 'green': 4}, {'blue': 1, 'red': 5}, {'green': 1, 'red': 4, 'blue': 1}, {'green': 2, 'red': 4}], 47: [{'green': 12, 'red': 8, 'blue': 4}, {'green': 7, 'red': 6, 'blue': 11}, {'red': 4, 'blue': 11, 'green': 12}], 48: [{'green': 1, 'blue': 3}, {'green': 13, 'red': 3, 'blue': 11}, {'blue': 7, 'green': 1, 'red': 2}, {'red': 7, 'green': 15, 'blue': 4}, {'red': 4, 'blue': 8, 'green': 10}, {'green': 15, 'blue': 8, 'red': 6}], 49: [{'red': 2}, {'red': 2, 'blue': 9}, {'blue': 4, 'green': 1}], 50: [{'blue': 10, 'green': 1, 'red': 18}, {'red': 13, 'green': 1, 'blue': 7}, {'red': 4, 'green': 2, 'blue': 9}, {'green': 2, 'red': 4, 'blue': 10}, {'blue': 7, 'red': 3}, {'red': 19, 'blue': 9}], 51: [{'green': 2, 'red': 2, 'blue': 5}, {'red': 9, 'blue': 5}, {'red': 3, 'blue': 10}, {'blue': 9, 'red': 6, 'green': 7}, {'red': 2, 'blue': 5}], 52: [{'blue': 6, 'green': 3}, {'green': 5, 'blue': 3, 'red': 5}, {'blue': 1, 'green': 2, 'red': 2}], 53: [{'blue': 2, 'green': 9, 'red': 15}, {'red': 18, 'blue': 1}, {'red': 13, 'green': 12}, {'green': 7, 'blue': 2, 'red': 9}], 54: [{'green': 18}, {'red': 2, 'green': 6}, {'red': 6, 'green': 9, 'blue': 1}, {'blue': 1, 'green': 4, 'red': 5}, {'red': 3}, {'green': 3, 'red': 4}], 55: [{'red': 5, 'blue': 2, 'green': 5}, {'blue': 10, 'green': 4, 'red': 8}, {'green': 15, 'blue': 9, 'red': 9}, {'green': 1, 'blue': 9}], 56: [{'green': 8, 'blue': 11, 'red': 1}, {'blue': 1, 'red': 1, 'green': 4}, {'blue': 8}], 57: [{'green': 5, 'blue': 4}, {'blue': 1, 'green': 4}, {'red': 1, 'green': 1, 'blue': 3}, {'red': 1, 'blue': 2, 'green': 6}], 58: [{'green': 8, 'red': 10, 'blue': 10}, {'blue': 8, 'green': 6, 'red': 12}, {'green': 9, 'blue': 11, 'red': 1}, {'red': 12, 'green': 5, 'blue': 11}, {'red': 7, 'green': 2, 'blue': 8}], 59: [{'red': 10, 'green': 1, 'blue': 3}, {'red': 16, 'green': 1, 'blue': 4}, {'red': 9, 'blue': 2}, {'red': 1}], 60: [{'blue': 11, 'green': 13, 'red': 10}, {'red': 15, 'blue': 12}, {'blue': 3, 'green': 9, 'red': 6}, {'blue': 12, 'green': 5}], 61: [{'blue': 2, 'red': 7}, {'green': 3, 'blue': 14, 'red': 11}, {'red': 7, 'blue': 10}, {'blue': 6, 'green': 3, 'red': 4}, {'blue': 10}], 62: [{'blue': 1, 'green': 7}, {'red': 6, 'green': 12, 'blue': 1}, {'red': 8}], 63: [{'blue': 1, 'green': 3, 'red': 1}, {'green': 8, 'red': 10, 'blue': 1}, {'green': 8, 'red': 11}, {'blue': 1, 'green': 11, 'red': 5}, {'green': 8, 'red': 11, 'blue': 2}, {'blue': 2, 'red': 10, 'green': 6}], 64: [{'green': 17, 'blue': 2}, {'blue': 12, 'green': 8}, {'green': 11, 'red': 3, 'blue': 4}, {'red': 5, 'green': 9, 'blue': 14}], 65: [{'blue': 7, 'green': 12, 'red': 5}, {'green': 13, 'blue': 5, 'red': 4}, {'blue': 4, 'green': 8, 'red': 1}, {'red': 5, 'green': 10, 'blue': 10}, {'red': 5, 'blue': 5, 'green': 15}, {'red': 4, 'green': 9, 'blue': 10}], 66: [{'green': 8, 'red': 2}, {'red': 8, 'green': 4}, {'red': 5, 'blue': 2, 'green': 7}], 67: [{'green': 10, 'blue': 7, 'red': 2}, {'blue': 15, 'green': 1, 'red': 9}, {'red': 2, 'green': 7, 'blue': 18}, {'green': 3, 'blue': 5, 'red': 8}, {'green': 10, 'blue': 11, 'red': 1}, {'green': 10, 'red': 4, 'blue': 17}], 68: [{'green': 13, 'blue': 10, 'red': 7}, {'red': 1, 'green': 15, 'blue': 7}, {'green': 17, 'red': 14, 'blue': 3}, {'green': 6, 'blue': 8, 'red': 6}, {'red': 4, 'blue': 3, 'green': 5}], 69: [{'red': 1, 'green': 6, 'blue': 3}, {'red': 3, 'blue': 4, 'green': 6}, {'blue': 2, 'red': 2, 'green': 1}, {'blue': 6, 'green': 9, 'red': 2}, {'green': 5, 'blue': 6}], 70: [{'green': 1, 'red': 1, 'blue': 3}, {'green': 2, 'blue': 4, 'red': 8}, {'red': 5, 'green': 2, 'blue': 3}, {'green': 3, 'red': 1, 'blue': 3}, {'green': 3, 'blue': 4}], 71: [{'blue': 11, 'green': 13}, {'red': 1, 'green': 11, 'blue': 3}, {'blue': 6, 'green': 14, 'red': 1}, {'blue': 5, 'green': 17}], 72: [{'blue': 3, 'green': 10, 'red': 4}, {'green': 2, 'red': 6, 'blue': 13}, {'green': 1, 'blue': 1, 'red': 6}, {'red': 5, 'blue': 1, 'green': 1}, {'green': 2, 'red': 5, 'blue': 5}, {'blue': 9, 'green': 10, 'red': 6}], 73: [{'red': 6, 'green': 4, 'blue': 1}, {'blue': 1, 'red': 5, 'green': 3}, {'red': 2, 'green': 11, 'blue': 3}], 74: [{'green': 13, 'red': 2, 'blue': 2}, {'blue': 5, 'green': 6}, {'green': 12, 'red': 3, 'blue': 4}, {'green': 2}], 75: [{'red': 9, 'blue': 10, 'green': 6}, {'blue': 12, 'red': 9}, {'red': 11, 'green': 6}, {'blue': 12, 'red': 2, 'green': 1}], 76: [{'green': 1, 'blue': 2, 'red': 5}, {'blue': 2, 'green': 1}, {'blue': 1, 'green': 2, 'red': 1}, {'blue': 2, 'red': 1}, {'green': 3, 'red': 3}], 77: [{'green': 5, 'blue': 12, 'red': 3}, {'blue': 11, 'green': 9, 'red': 13}, {'blue': 8, 'green': 13, 'red': 13}], 78: [{'red': 2, 'blue': 3, 'green': 1}, {'green': 1, 'blue': 19, 'red': 1}, {'blue': 7, 'green': 2, 'red': 2}], 79: [{'red': 5, 'blue': 1, 'green': 4}, {'blue': 1, 'green': 9, 'red': 10}, {'red': 13, 'green': 1}, {'blue': 1, 'red': 1, 'green': 5}], 80: [{'green': 13, 'blue': 2}, {'red': 1, 'blue': 4, 'green': 13}, {'red': 5, 'green': 7, 'blue': 4}], 81: [{'red': 3, 'blue': 4, 'green': 12}, {'green': 16, 'red': 5, 'blue': 1}, {'blue': 4, 'red': 2, 'green': 2}, {'blue': 4, 'red': 5, 'green': 13}, {'red': 8, 'blue': 4, 'green': 13}, {'green': 16, 'red': 3}], 82: [{'red': 6, 'green': 3, 'blue': 2}, {'green': 1, 'red': 6, 'blue': 2}, {'blue': 3, 'green': 8, 'red': 9}], 83: [{'green': 3, 'red': 3, 'blue': 1}, {'blue': 3, 'green': 4, 'red': 3}, {'blue': 3, 'green': 4, 'red': 1}, {'red': 2, 'green': 8, 'blue': 2}], 84: [{'red': 5, 'blue': 6, 'green': 3}, {'blue': 1, 'green': 2}, {'green': 3, 'blue': 2, 'red': 2}, {'red': 1, 'green': 3, 'blue': 6}, {'red': 12, 'green': 2}, {'blue': 4, 'green': 2, 'red': 4}], 85: [{'green': 11, 'blue': 4, 'red': 9}, {'red': 13, 'blue': 1, 'green': 11}, {'green': 7, 'blue': 8, 'red': 7}, {'red': 1, 'blue': 4}], 86: [{'blue': 3, 'green': 19, 'red': 7}, {'green': 19, 'red': 1, 'blue': 1}, {'green': 9, 'red': 2}, {'red': 7, 'green': 6, 'blue': 1}], 87: [{'blue': 1, 'green': 1, 'red': 4}, {'green': 1, 'red': 6}, {'red': 6, 'blue': 2}, {'red': 8, 'blue': 3}], 88: [{'red': 9, 'blue': 6}, {'red': 4, 'blue': 1, 'green': 2}, {'green': 1, 'blue': 10, 'red': 6}, {'blue': 2, 'green': 1, 'red': 10}, {'red': 7, 'blue': 9}], 89: [{'blue': 3, 'green': 15, 'red': 1}, {'red': 1, 'green': 13, 'blue': 3}, {'blue': 4, 'green': 14, 'red': 4}, {'green': 10, 'blue': 1}], 90: [{'red': 1, 'green': 13}, {'green': 3, 'red': 1, 'blue': 5}, {'blue': 5, 'green': 6}, {'green': 14, 'blue': 4}, {'blue': 3, 'green': 10}, {'green': 13, 'red': 1}], 91: [{'green': 13, 'red': 11, 'blue': 4}, {'red': 14, 'green': 1, 'blue': 10}, {'red': 4, 'green': 2, 'blue': 3}], 92: [{'red': 2, 'blue': 3, 'green': 6}, {'red': 2, 'blue': 2, 'green': 8}, {'blue': 14, 'red': 1, 'green': 1}], 93: [{'blue': 15, 'red': 2, 'green': 13}, {'green': 8, 'red': 2, 'blue': 8}, {'blue': 6, 'red': 1, 'green': 2}], 94: [{'red': 5, 'green': 4, 'blue': 9}, {'red': 1, 'green': 5, 'blue': 4}, {'blue': 11, 'green': 4, 'red': 2}], 95: [{'blue': 9, 'green': 3}, {'green': 2, 'blue': 12}, {'green': 10, 'blue': 3}, {'green': 1, 'red': 1, 'blue': 10}], 96: [{'blue': 4, 'red': 2}, {'green': 3, 'blue': 10, 'red': 7}, {'blue': 2, 'green': 7, 'red': 1}, {'blue': 13, 'green': 9}, {'blue': 10, 'green': 4, 'red': 1}], 97: [{'red': 6, 'green': 4}, {'blue': 1, 'red': 13}, {'green': 3, 'red': 13}], 98: [{'red': 1, 'blue': 13, 'green': 1}, {'green': 7, 'blue': 5, 'red': 3}, {'blue': 15, 'green': 6}, {'blue': 4, 'green': 5}, {'blue': 13, 'green': 2, 'red': 1}, {'blue': 4, 'red': 3, 'green': 2}], 99: [{'red': 1, 'green': 2}, {'red': 2, 'blue': 2, 'green': 1}, {'green': 3, 'blue': 1, 'red': 6}, {'red': 3, 'green': 4}, {'red': 5, 'blue': 1, 'green': 4}, {'blue': 1, 'red': 2, 'green': 1}], 100: [{'green': 9, 'blue': 2, 'red': 12}, {'blue': 2, 'red': 14, 'green': 2}, {'red': 14, 'green': 12}]}\n"
     ]
    }
   ],
   "source": [
    "# READ FILE\n",
    "inputfilepath = './input.txt'\n",
    "\n",
    "with open(inputfilepath,'r') as f:\n",
    "    game_dict = {}\n",
    "    for line in f:\n",
    "        game_n, hand_list = process_line(line.rstrip())\n",
    "        game_dict[game_n] = hand_list\n",
    "    print(game_dict)"
   ]
  },
  {
   "cell_type": "code",
   "execution_count": 57,
   "metadata": {},
   "outputs": [
    {
     "name": "stdout",
     "output_type": "stream",
     "text": [
      "Too many green : 15\n",
      "Invalid hand {'blue': 3, 'green': 15}\n",
      "Too many blue : 16\n",
      "Invalid hand {'green': 8, 'red': 6, 'blue': 16}\n",
      "Too many green : 14\n",
      "Invalid hand {'green': 14, 'red': 1, 'blue': 2}\n",
      "Too many red : 15\n",
      "Invalid hand {'red': 15, 'blue': 12}\n",
      "Too many red : 16\n",
      "Invalid hand {'red': 16, 'blue': 8, 'green': 1}\n",
      "Too many green : 14\n",
      "Invalid hand {'red': 2, 'blue': 1, 'green': 14}\n",
      "Too many red : 16\n",
      "Invalid hand {'red': 16, 'blue': 3, 'green': 1}\n",
      "Too many red : 13\n",
      "Invalid hand {'red': 13, 'blue': 9}\n",
      "Too many red : 15\n",
      "Invalid hand {'red': 15, 'green': 17, 'blue': 8}\n",
      "Too many green : 16\n",
      "Invalid hand {'blue': 8, 'green': 16}\n",
      "Too many red : 16\n",
      "Invalid hand {'red': 16, 'blue': 3, 'green': 8}\n",
      "Too many red : 13\n",
      "Invalid hand {'green': 11, 'blue': 2, 'red': 13}\n",
      "Too many green : 15\n",
      "Invalid hand {'blue': 10, 'green': 15}\n",
      "Too many red : 13\n",
      "Invalid hand {'green': 4, 'red': 13, 'blue': 7}\n",
      "Too many red : 15\n",
      "Invalid hand {'green': 6, 'red': 15}\n",
      "Too many green : 20\n",
      "Invalid hand {'blue': 6, 'red': 9, 'green': 20}\n",
      "Too many red : 15\n",
      "Invalid hand {'red': 15, 'green': 5}\n",
      "Too many red : 15\n",
      "Invalid hand {'blue': 4, 'red': 15}\n",
      "Too many green : 18\n",
      "Invalid hand {'blue': 4, 'green': 18, 'red': 2}\n",
      "Too many blue : 16\n",
      "Invalid hand {'blue': 16, 'green': 5, 'red': 18}\n",
      "Too many green : 16\n",
      "Invalid hand {'green': 16, 'blue': 2, 'red': 8}\n",
      "Too many green : 17\n",
      "Invalid hand {'green': 17, 'red': 17, 'blue': 11}\n",
      "Too many red : 14\n",
      "Invalid hand {'red': 14, 'green': 6, 'blue': 7}\n",
      "Too many red : 14\n",
      "Invalid hand {'blue': 9, 'green': 1, 'red': 14}\n",
      "Too many blue : 20\n",
      "Invalid hand {'blue': 20, 'red': 4, 'green': 6}\n",
      "Too many green : 15\n",
      "Invalid hand {'red': 7, 'green': 15, 'blue': 4}\n",
      "Too many red : 18\n",
      "Invalid hand {'blue': 10, 'green': 1, 'red': 18}\n",
      "Too many red : 15\n",
      "Invalid hand {'blue': 2, 'green': 9, 'red': 15}\n",
      "Too many green : 18\n",
      "Invalid hand {'green': 18}\n",
      "Too many green : 15\n",
      "Invalid hand {'green': 15, 'blue': 9, 'red': 9}\n",
      "Too many red : 16\n",
      "Invalid hand {'red': 16, 'green': 1, 'blue': 4}\n",
      "Too many red : 15\n",
      "Invalid hand {'red': 15, 'blue': 12}\n",
      "Too many green : 17\n",
      "Invalid hand {'green': 17, 'blue': 2}\n",
      "Too many green : 15\n",
      "Invalid hand {'red': 5, 'blue': 5, 'green': 15}\n",
      "Too many blue : 15\n",
      "Invalid hand {'blue': 15, 'green': 1, 'red': 9}\n",
      "Too many green : 15\n",
      "Invalid hand {'red': 1, 'green': 15, 'blue': 7}\n",
      "Too many green : 14\n",
      "Invalid hand {'blue': 6, 'green': 14, 'red': 1}\n",
      "Too many red : 13\n",
      "Invalid hand {'blue': 11, 'green': 9, 'red': 13}\n",
      "Too many blue : 19\n",
      "Invalid hand {'green': 1, 'blue': 19, 'red': 1}\n",
      "Too many red : 13\n",
      "Invalid hand {'red': 13, 'green': 1}\n",
      "Too many green : 16\n",
      "Invalid hand {'green': 16, 'red': 5, 'blue': 1}\n",
      "Too many red : 13\n",
      "Invalid hand {'red': 13, 'blue': 1, 'green': 11}\n",
      "Too many green : 19\n",
      "Invalid hand {'blue': 3, 'green': 19, 'red': 7}\n",
      "Too many green : 15\n",
      "Invalid hand {'blue': 3, 'green': 15, 'red': 1}\n",
      "Too many green : 14\n",
      "Invalid hand {'green': 14, 'blue': 4}\n",
      "Too many red : 14\n",
      "Invalid hand {'red': 14, 'green': 1, 'blue': 10}\n",
      "Too many blue : 15\n",
      "Invalid hand {'blue': 15, 'red': 2, 'green': 13}\n",
      "Too many red : 13\n",
      "Invalid hand {'blue': 1, 'red': 13}\n",
      "Too many blue : 15\n",
      "Invalid hand {'blue': 15, 'green': 6}\n",
      "Too many red : 14\n",
      "Invalid hand {'blue': 2, 'red': 14, 'green': 2}\n"
     ]
    }
   ],
   "source": [
    "# CHECK GAMES\n",
    "valid_games = []\n",
    "for game_n, hands in game_dict.items():\n",
    "    for hand_i in hands:\n",
    "        if invalid_hand(hand_i, max_cubes):\n",
    "            print(f'Invalid hand {hand_i}')\n",
    "            break\n",
    "    else:\n",
    "        valid_games.append(game_n)"
   ]
  },
  {
   "cell_type": "code",
   "execution_count": 58,
   "metadata": {},
   "outputs": [
    {
     "data": {
      "text/plain": [
       "([1,\n",
       "  2,\n",
       "  3,\n",
       "  6,\n",
       "  7,\n",
       "  8,\n",
       "  10,\n",
       "  15,\n",
       "  18,\n",
       "  20,\n",
       "  22,\n",
       "  24,\n",
       "  25,\n",
       "  26,\n",
       "  31,\n",
       "  33,\n",
       "  34,\n",
       "  39,\n",
       "  40,\n",
       "  42,\n",
       "  46,\n",
       "  47,\n",
       "  49,\n",
       "  51,\n",
       "  52,\n",
       "  56,\n",
       "  57,\n",
       "  58,\n",
       "  61,\n",
       "  62,\n",
       "  63,\n",
       "  66,\n",
       "  69,\n",
       "  70,\n",
       "  72,\n",
       "  73,\n",
       "  74,\n",
       "  75,\n",
       "  76,\n",
       "  80,\n",
       "  82,\n",
       "  83,\n",
       "  84,\n",
       "  87,\n",
       "  88,\n",
       "  92,\n",
       "  94,\n",
       "  95,\n",
       "  96,\n",
       "  99],\n",
       " 2563)"
      ]
     },
     "execution_count": 58,
     "metadata": {},
     "output_type": "execute_result"
    }
   ],
   "source": [
    "valid_games, sum(valid_games)"
   ]
  },
  {
   "cell_type": "markdown",
   "metadata": {},
   "source": [
    "## SECOND SAMPLE"
   ]
  },
  {
   "cell_type": "code",
   "execution_count": 59,
   "metadata": {},
   "outputs": [],
   "source": [
    "sample_input = [\"Game 1: 3 blue, 4 red; 1 red, 2 green, 6 blue; 2 green\",\n",
    "\"Game 2: 1 blue, 2 green; 3 green, 4 blue, 1 red; 1 green, 1 blue\",\n",
    "\"Game 3: 8 green, 6 blue, 20 red; 5 blue, 4 red, 13 green; 5 green, 1 red\",\n",
    "\"Game 4: 1 green, 3 red, 6 blue; 3 green, 6 red; 3 green, 15 blue, 14 red\",\n",
    "\"Game 5: 6 red, 1 blue, 3 green; 2 blue, 1 red, 2 green\"]"
   ]
  },
  {
   "cell_type": "code",
   "execution_count": 60,
   "metadata": {},
   "outputs": [
    {
     "name": "stdout",
     "output_type": "stream",
     "text": [
      "{1: [{'blue': 3, 'red': 4}, {'red': 1, 'green': 2, 'blue': 6}, {'green': 2}], 2: [{'blue': 1, 'green': 2}, {'green': 3, 'blue': 4, 'red': 1}, {'green': 1, 'blue': 1}], 3: [{'green': 8, 'blue': 6, 'red': 20}, {'blue': 5, 'red': 4, 'green': 13}, {'green': 5, 'red': 1}], 4: [{'green': 1, 'red': 3, 'blue': 6}, {'green': 3, 'red': 6}, {'green': 3, 'blue': 15, 'red': 14}], 5: [{'red': 6, 'blue': 1, 'green': 3}, {'blue': 2, 'red': 1, 'green': 2}]}\n"
     ]
    }
   ],
   "source": [
    "game_dict = {}\n",
    "for line in sample_input:\n",
    "    game_n, hand_list = process_line(line)\n",
    "    game_dict[game_n] = hand_list\n",
    "print(game_dict)"
   ]
  },
  {
   "cell_type": "code",
   "execution_count": 64,
   "metadata": {},
   "outputs": [],
   "source": [
    "def min_cubes_per_game(game):\n",
    "    min_cubes = {'red': 0, 'green': 0, 'blue':0}\n",
    "    for hand in game:\n",
    "        for color, color_count in hand.items():\n",
    "            min_cubes[color] = max([color_count, min_cubes[color]])\n",
    "    return min_cubes"
   ]
  },
  {
   "cell_type": "code",
   "execution_count": 66,
   "metadata": {},
   "outputs": [
    {
     "name": "stdout",
     "output_type": "stream",
     "text": [
      "{'red': 4, 'green': 2, 'blue': 6}\n",
      "{'red': 1, 'green': 3, 'blue': 4}\n",
      "{'red': 20, 'green': 13, 'blue': 6}\n",
      "{'red': 14, 'green': 3, 'blue': 15}\n",
      "{'red': 6, 'green': 3, 'blue': 2}\n"
     ]
    }
   ],
   "source": [
    "power_list = []\n",
    "for game_n, game in game_dict.items():\n",
    "    min_cubes_n = min_cubes_per_game(game)\n",
    "    print(min_cubes_n)\n",
    "    power = min_cubes_n['red']*min_cubes_n['green']*min_cubes_n['blue']\n",
    "    power_list.append(power)"
   ]
  },
  {
   "cell_type": "code",
   "execution_count": 69,
   "metadata": {},
   "outputs": [
    {
     "data": {
      "text/plain": [
       "([48, 12, 1560, 630, 36], 2286)"
      ]
     },
     "execution_count": 69,
     "metadata": {},
     "output_type": "execute_result"
    }
   ],
   "source": [
    "power_list, sum(power_list)"
   ]
  },
  {
   "cell_type": "markdown",
   "metadata": {},
   "source": [
    "## PROCESS PART TWO"
   ]
  },
  {
   "cell_type": "code",
   "execution_count": 70,
   "metadata": {},
   "outputs": [
    {
     "name": "stdout",
     "output_type": "stream",
     "text": [
      "{1: [{'red': 1, 'blue': 10, 'green': 5}, {'blue': 11, 'green': 6}, {'green': 6}, {'green': 1, 'red': 1, 'blue': 12}, {'blue': 3}, {'blue': 3, 'green': 4, 'red': 1}], 2: [{'red': 3, 'green': 5}, {'green': 5, 'red': 7}, {'blue': 1, 'red': 7, 'green': 3}, {'red': 3, 'blue': 2}, {'green': 5, 'red': 4}], 3: [{'blue': 4, 'green': 4}, {'green': 2, 'blue': 2}, {'green': 8, 'red': 2, 'blue': 3}], 4: [{'blue': 3, 'green': 15}, {'green': 16}, {'red': 2, 'green': 7}, {'blue': 2, 'green': 14}], 5: [{'green': 8, 'red': 6, 'blue': 16}, {'red': 8, 'green': 12}, {'red': 1, 'green': 9, 'blue': 16}, {'red': 8, 'green': 3}, {'blue': 2, 'red': 5, 'green': 10}, {'red': 15, 'blue': 4, 'green': 8}], 6: [{'blue': 5, 'green': 2}, {'red': 6, 'green': 3}, {'green': 4, 'blue': 4, 'red': 2}, {'blue': 14, 'red': 2}], 7: [{'green': 2, 'blue': 6, 'red': 1}, {'blue': 2, 'red': 1}, {'blue': 8}, {'blue': 5, 'green': 1}, {'blue': 6, 'red': 1}, {'blue': 2}], 8: [{'red': 1, 'blue': 10, 'green': 1}, {'blue': 6, 'red': 1}, {'blue': 3, 'green': 2}, {'red': 1, 'blue': 1, 'green': 3}, {'blue': 13}, {'blue': 10, 'green': 3, 'red': 3}], 9: [{'blue': 2}, {'green': 8, 'blue': 3}, {'green': 4}, {'green': 14, 'red': 1, 'blue': 2}, {'blue': 3, 'red': 1, 'green': 12}], 10: [{'blue': 1, 'green': 7}, {'red': 1, 'green': 3, 'blue': 5}, {'blue': 1, 'green': 5, 'red': 1}, {'green': 13, 'blue': 5, 'red': 2}], 11: [{'green': 1, 'red': 10, 'blue': 6}, {'red': 15, 'blue': 12}, {'red': 18, 'green': 1, 'blue': 1}], 12: [{'red': 16, 'blue': 8, 'green': 1}, {'red': 15, 'blue': 3, 'green': 1}, {'red': 5}], 13: [{'red': 6, 'blue': 7, 'green': 7}, {'blue': 3, 'red': 4, 'green': 13}, {'blue': 1, 'red': 6, 'green': 11}, {'red': 2, 'blue': 1, 'green': 14}, {'green': 8, 'blue': 5, 'red': 2}, {'blue': 4, 'green': 18, 'red': 4}], 14: [{'red': 16, 'blue': 3, 'green': 1}, {'green': 7, 'red': 3}, {'red': 16, 'green': 15, 'blue': 3}, {'blue': 3, 'red': 13, 'green': 10}], 15: [{'blue': 1, 'red': 1}, {'blue': 3, 'green': 2}, {'red': 1}, {'red': 2, 'green': 2, 'blue': 3}, {'blue': 3, 'red': 1, 'green': 3}], 16: [{'red': 9, 'blue': 3}, {'red': 13, 'blue': 9}, {'blue': 9, 'red': 10}, {'red': 5, 'blue': 10, 'green': 1}, {'red': 2, 'green': 6, 'blue': 8}, {'green': 6, 'red': 13, 'blue': 5}], 17: [{'red': 15, 'green': 17, 'blue': 8}, {'red': 18, 'blue': 16, 'green': 15}, {'blue': 8, 'green': 17, 'red': 10}, {'green': 5, 'red': 3, 'blue': 12}], 18: [{'blue': 2, 'red': 11, 'green': 2}, {'green': 1, 'red': 11, 'blue': 11}, {'red': 1, 'blue': 4}, {'blue': 10, 'red': 9}, {'blue': 1, 'red': 7}], 19: [{'blue': 2, 'green': 3, 'red': 5}, {'blue': 8, 'green': 16}, {'red': 12, 'blue': 7, 'green': 8}, {'green': 9, 'blue': 1}, {'red': 3, 'green': 16, 'blue': 10}], 20: [{'blue': 3, 'green': 5, 'red': 6}, {'red': 2, 'blue': 8, 'green': 7}, {'green': 7, 'blue': 3}, {'red': 2, 'blue': 11}, {'green': 1, 'red': 6, 'blue': 3}], 21: [{'red': 16, 'blue': 3, 'green': 8}, {'red': 10, 'blue': 15, 'green': 3}, {'green': 6, 'red': 13, 'blue': 15}, {'green': 11, 'blue': 13, 'red': 10}], 22: [{'green': 8, 'blue': 1}, {'blue': 2, 'green': 9, 'red': 3}, {'red': 2, 'blue': 2}, {'red': 1, 'blue': 3, 'green': 8}, {'blue': 2, 'green': 1}, {'green': 1, 'blue': 2}], 23: [{'blue': 2, 'red': 8, 'green': 5}, {'green': 9, 'blue': 2}, {'red': 10, 'green': 2}, {'red': 12, 'blue': 1}, {'green': 11, 'blue': 2, 'red': 13}, {'green': 7}], 24: [{'red': 6}, {'green': 13, 'red': 7, 'blue': 10}, {'green': 7, 'red': 9, 'blue': 1}, {'blue': 3, 'green': 2, 'red': 2}], 25: [{'green': 7, 'red': 1, 'blue': 2}, {'green': 8, 'blue': 2, 'red': 5}, {'blue': 5, 'green': 8, 'red': 4}, {'blue': 5, 'green': 2, 'red': 1}, {'green': 5, 'red': 3, 'blue': 7}, {'blue': 3, 'green': 6, 'red': 1}], 26: [{'green': 6, 'red': 3}, {'blue': 1, 'green': 2, 'red': 2}, {'green': 2, 'red': 2, 'blue': 3}, {'blue': 4, 'red': 8, 'green': 2}, {'red': 1, 'green': 1, 'blue': 1}, {'red': 6, 'blue': 5}], 27: [{'green': 4, 'blue': 13, 'red': 2}, {'red': 2, 'green': 7, 'blue': 10}, {'blue': 14, 'green': 11, 'red': 1}, {'blue': 10, 'green': 15}], 28: [{'green': 4, 'red': 13, 'blue': 7}, {'red': 2, 'blue': 5}, {'blue': 5, 'green': 4}], 29: [{'green': 6, 'red': 15}, {'blue': 1, 'red': 6, 'green': 8}, {'green': 6, 'blue': 1}, {'red': 12}, {'green': 1, 'red': 7, 'blue': 1}], 30: [{'blue': 4, 'green': 4, 'red': 2}, {'blue': 6, 'red': 9, 'green': 20}, {'blue': 9, 'red': 4, 'green': 2}, {'red': 8, 'blue': 8, 'green': 1}, {'green': 6, 'blue': 12, 'red': 2}, {'green': 8, 'red': 8}], 31: [{'blue': 9}, {'red': 1, 'blue': 2, 'green': 5}, {'blue': 2, 'red': 2, 'green': 9}, {'blue': 2, 'red': 1, 'green': 8}, {'green': 11, 'red': 2, 'blue': 3}, {'green': 7, 'blue': 5}], 32: [{'red': 15, 'green': 5}, {'green': 4, 'blue': 2, 'red': 3}, {'blue': 1, 'red': 9}, {'blue': 1, 'red': 15}, {'blue': 4, 'red': 2, 'green': 8}, {'green': 3, 'blue': 3}], 33: [{'blue': 13, 'red': 1, 'green': 1}, {'blue': 8, 'red': 6}, {'blue': 4, 'red': 2}], 34: [{'blue': 5, 'red': 9, 'green': 7}, {'red': 8, 'green': 6, 'blue': 5}, {'blue': 2, 'green': 7, 'red': 12}], 35: [{'blue': 4, 'red': 15}, {'green': 1, 'blue': 10, 'red': 7}, {'red': 9, 'green': 3, 'blue': 1}, {'red': 13, 'blue': 9}, {'blue': 3, 'red': 2}], 36: [{'blue': 4, 'green': 18, 'red': 2}, {'green': 5, 'blue': 6, 'red': 11}, {'red': 6, 'blue': 12, 'green': 14}, {'green': 19, 'blue': 10, 'red': 7}, {'red': 7, 'green': 8, 'blue': 9}], 37: [{'blue': 16, 'green': 5, 'red': 18}, {'blue': 3, 'green': 14, 'red': 1}, {'blue': 4, 'green': 3, 'red': 14}, {'green': 12, 'red': 7, 'blue': 15}, {'green': 15, 'blue': 11, 'red': 2}, {'blue': 8, 'green': 13, 'red': 6}], 38: [{'red': 6, 'blue': 4, 'green': 12}, {'red': 3, 'blue': 11}, {'green': 16, 'blue': 2, 'red': 8}, {'blue': 4, 'red': 11, 'green': 4}, {'green': 17, 'red': 7, 'blue': 10}, {'blue': 9, 'green': 15, 'red': 1}], 39: [{'green': 1, 'red': 1, 'blue': 10}, {'red': 1, 'blue': 5, 'green': 2}, {'red': 4, 'blue': 7}, {'red': 9, 'green': 6, 'blue': 5}, {'green': 1, 'blue': 2, 'red': 9}], 40: [{'blue': 13, 'red': 11, 'green': 12}, {'green': 8, 'red': 11, 'blue': 4}, {'blue': 2, 'green': 2, 'red': 12}, {'green': 2, 'red': 3, 'blue': 13}, {'blue': 13, 'red': 6, 'green': 2}, {'green': 4, 'red': 6, 'blue': 8}], 41: [{'red': 12, 'green': 4, 'blue': 13}, {'red': 4, 'blue': 7, 'green': 10}, {'green': 17, 'red': 17, 'blue': 11}], 42: [{'red': 1, 'green': 1}, {'red': 1, 'green': 4}, {'blue': 1, 'red': 4, 'green': 4}, {'red': 3}, {'blue': 1, 'green': 3, 'red': 1}], 43: [{'blue': 7, 'green': 10}, {'blue': 5, 'green': 2}, {'blue': 2, 'green': 1, 'red': 4}, {'red': 14, 'green': 6, 'blue': 7}, {'green': 4, 'red': 14, 'blue': 8}, {'green': 4, 'red': 6}], 44: [{'green': 9, 'red': 4}, {'red': 4, 'green': 6}, {'red': 5, 'blue': 2, 'green': 7}, {'blue': 9, 'green': 1, 'red': 14}], 45: [{'blue': 20, 'red': 4, 'green': 6}, {'blue': 3, 'green': 1, 'red': 6}, {'blue': 8, 'green': 8, 'red': 11}], 46: [{'green': 1, 'red': 6}, {'red': 6, 'blue': 3, 'green': 3}, {'red': 6, 'blue': 3, 'green': 4}, {'blue': 1, 'red': 5}, {'green': 1, 'red': 4, 'blue': 1}, {'green': 2, 'red': 4}], 47: [{'green': 12, 'red': 8, 'blue': 4}, {'green': 7, 'red': 6, 'blue': 11}, {'red': 4, 'blue': 11, 'green': 12}], 48: [{'green': 1, 'blue': 3}, {'green': 13, 'red': 3, 'blue': 11}, {'blue': 7, 'green': 1, 'red': 2}, {'red': 7, 'green': 15, 'blue': 4}, {'red': 4, 'blue': 8, 'green': 10}, {'green': 15, 'blue': 8, 'red': 6}], 49: [{'red': 2}, {'red': 2, 'blue': 9}, {'blue': 4, 'green': 1}], 50: [{'blue': 10, 'green': 1, 'red': 18}, {'red': 13, 'green': 1, 'blue': 7}, {'red': 4, 'green': 2, 'blue': 9}, {'green': 2, 'red': 4, 'blue': 10}, {'blue': 7, 'red': 3}, {'red': 19, 'blue': 9}], 51: [{'green': 2, 'red': 2, 'blue': 5}, {'red': 9, 'blue': 5}, {'red': 3, 'blue': 10}, {'blue': 9, 'red': 6, 'green': 7}, {'red': 2, 'blue': 5}], 52: [{'blue': 6, 'green': 3}, {'green': 5, 'blue': 3, 'red': 5}, {'blue': 1, 'green': 2, 'red': 2}], 53: [{'blue': 2, 'green': 9, 'red': 15}, {'red': 18, 'blue': 1}, {'red': 13, 'green': 12}, {'green': 7, 'blue': 2, 'red': 9}], 54: [{'green': 18}, {'red': 2, 'green': 6}, {'red': 6, 'green': 9, 'blue': 1}, {'blue': 1, 'green': 4, 'red': 5}, {'red': 3}, {'green': 3, 'red': 4}], 55: [{'red': 5, 'blue': 2, 'green': 5}, {'blue': 10, 'green': 4, 'red': 8}, {'green': 15, 'blue': 9, 'red': 9}, {'green': 1, 'blue': 9}], 56: [{'green': 8, 'blue': 11, 'red': 1}, {'blue': 1, 'red': 1, 'green': 4}, {'blue': 8}], 57: [{'green': 5, 'blue': 4}, {'blue': 1, 'green': 4}, {'red': 1, 'green': 1, 'blue': 3}, {'red': 1, 'blue': 2, 'green': 6}], 58: [{'green': 8, 'red': 10, 'blue': 10}, {'blue': 8, 'green': 6, 'red': 12}, {'green': 9, 'blue': 11, 'red': 1}, {'red': 12, 'green': 5, 'blue': 11}, {'red': 7, 'green': 2, 'blue': 8}], 59: [{'red': 10, 'green': 1, 'blue': 3}, {'red': 16, 'green': 1, 'blue': 4}, {'red': 9, 'blue': 2}, {'red': 1}], 60: [{'blue': 11, 'green': 13, 'red': 10}, {'red': 15, 'blue': 12}, {'blue': 3, 'green': 9, 'red': 6}, {'blue': 12, 'green': 5}], 61: [{'blue': 2, 'red': 7}, {'green': 3, 'blue': 14, 'red': 11}, {'red': 7, 'blue': 10}, {'blue': 6, 'green': 3, 'red': 4}, {'blue': 10}], 62: [{'blue': 1, 'green': 7}, {'red': 6, 'green': 12, 'blue': 1}, {'red': 8}], 63: [{'blue': 1, 'green': 3, 'red': 1}, {'green': 8, 'red': 10, 'blue': 1}, {'green': 8, 'red': 11}, {'blue': 1, 'green': 11, 'red': 5}, {'green': 8, 'red': 11, 'blue': 2}, {'blue': 2, 'red': 10, 'green': 6}], 64: [{'green': 17, 'blue': 2}, {'blue': 12, 'green': 8}, {'green': 11, 'red': 3, 'blue': 4}, {'red': 5, 'green': 9, 'blue': 14}], 65: [{'blue': 7, 'green': 12, 'red': 5}, {'green': 13, 'blue': 5, 'red': 4}, {'blue': 4, 'green': 8, 'red': 1}, {'red': 5, 'green': 10, 'blue': 10}, {'red': 5, 'blue': 5, 'green': 15}, {'red': 4, 'green': 9, 'blue': 10}], 66: [{'green': 8, 'red': 2}, {'red': 8, 'green': 4}, {'red': 5, 'blue': 2, 'green': 7}], 67: [{'green': 10, 'blue': 7, 'red': 2}, {'blue': 15, 'green': 1, 'red': 9}, {'red': 2, 'green': 7, 'blue': 18}, {'green': 3, 'blue': 5, 'red': 8}, {'green': 10, 'blue': 11, 'red': 1}, {'green': 10, 'red': 4, 'blue': 17}], 68: [{'green': 13, 'blue': 10, 'red': 7}, {'red': 1, 'green': 15, 'blue': 7}, {'green': 17, 'red': 14, 'blue': 3}, {'green': 6, 'blue': 8, 'red': 6}, {'red': 4, 'blue': 3, 'green': 5}], 69: [{'red': 1, 'green': 6, 'blue': 3}, {'red': 3, 'blue': 4, 'green': 6}, {'blue': 2, 'red': 2, 'green': 1}, {'blue': 6, 'green': 9, 'red': 2}, {'green': 5, 'blue': 6}], 70: [{'green': 1, 'red': 1, 'blue': 3}, {'green': 2, 'blue': 4, 'red': 8}, {'red': 5, 'green': 2, 'blue': 3}, {'green': 3, 'red': 1, 'blue': 3}, {'green': 3, 'blue': 4}], 71: [{'blue': 11, 'green': 13}, {'red': 1, 'green': 11, 'blue': 3}, {'blue': 6, 'green': 14, 'red': 1}, {'blue': 5, 'green': 17}], 72: [{'blue': 3, 'green': 10, 'red': 4}, {'green': 2, 'red': 6, 'blue': 13}, {'green': 1, 'blue': 1, 'red': 6}, {'red': 5, 'blue': 1, 'green': 1}, {'green': 2, 'red': 5, 'blue': 5}, {'blue': 9, 'green': 10, 'red': 6}], 73: [{'red': 6, 'green': 4, 'blue': 1}, {'blue': 1, 'red': 5, 'green': 3}, {'red': 2, 'green': 11, 'blue': 3}], 74: [{'green': 13, 'red': 2, 'blue': 2}, {'blue': 5, 'green': 6}, {'green': 12, 'red': 3, 'blue': 4}, {'green': 2}], 75: [{'red': 9, 'blue': 10, 'green': 6}, {'blue': 12, 'red': 9}, {'red': 11, 'green': 6}, {'blue': 12, 'red': 2, 'green': 1}], 76: [{'green': 1, 'blue': 2, 'red': 5}, {'blue': 2, 'green': 1}, {'blue': 1, 'green': 2, 'red': 1}, {'blue': 2, 'red': 1}, {'green': 3, 'red': 3}], 77: [{'green': 5, 'blue': 12, 'red': 3}, {'blue': 11, 'green': 9, 'red': 13}, {'blue': 8, 'green': 13, 'red': 13}], 78: [{'red': 2, 'blue': 3, 'green': 1}, {'green': 1, 'blue': 19, 'red': 1}, {'blue': 7, 'green': 2, 'red': 2}], 79: [{'red': 5, 'blue': 1, 'green': 4}, {'blue': 1, 'green': 9, 'red': 10}, {'red': 13, 'green': 1}, {'blue': 1, 'red': 1, 'green': 5}], 80: [{'green': 13, 'blue': 2}, {'red': 1, 'blue': 4, 'green': 13}, {'red': 5, 'green': 7, 'blue': 4}], 81: [{'red': 3, 'blue': 4, 'green': 12}, {'green': 16, 'red': 5, 'blue': 1}, {'blue': 4, 'red': 2, 'green': 2}, {'blue': 4, 'red': 5, 'green': 13}, {'red': 8, 'blue': 4, 'green': 13}, {'green': 16, 'red': 3}], 82: [{'red': 6, 'green': 3, 'blue': 2}, {'green': 1, 'red': 6, 'blue': 2}, {'blue': 3, 'green': 8, 'red': 9}], 83: [{'green': 3, 'red': 3, 'blue': 1}, {'blue': 3, 'green': 4, 'red': 3}, {'blue': 3, 'green': 4, 'red': 1}, {'red': 2, 'green': 8, 'blue': 2}], 84: [{'red': 5, 'blue': 6, 'green': 3}, {'blue': 1, 'green': 2}, {'green': 3, 'blue': 2, 'red': 2}, {'red': 1, 'green': 3, 'blue': 6}, {'red': 12, 'green': 2}, {'blue': 4, 'green': 2, 'red': 4}], 85: [{'green': 11, 'blue': 4, 'red': 9}, {'red': 13, 'blue': 1, 'green': 11}, {'green': 7, 'blue': 8, 'red': 7}, {'red': 1, 'blue': 4}], 86: [{'blue': 3, 'green': 19, 'red': 7}, {'green': 19, 'red': 1, 'blue': 1}, {'green': 9, 'red': 2}, {'red': 7, 'green': 6, 'blue': 1}], 87: [{'blue': 1, 'green': 1, 'red': 4}, {'green': 1, 'red': 6}, {'red': 6, 'blue': 2}, {'red': 8, 'blue': 3}], 88: [{'red': 9, 'blue': 6}, {'red': 4, 'blue': 1, 'green': 2}, {'green': 1, 'blue': 10, 'red': 6}, {'blue': 2, 'green': 1, 'red': 10}, {'red': 7, 'blue': 9}], 89: [{'blue': 3, 'green': 15, 'red': 1}, {'red': 1, 'green': 13, 'blue': 3}, {'blue': 4, 'green': 14, 'red': 4}, {'green': 10, 'blue': 1}], 90: [{'red': 1, 'green': 13}, {'green': 3, 'red': 1, 'blue': 5}, {'blue': 5, 'green': 6}, {'green': 14, 'blue': 4}, {'blue': 3, 'green': 10}, {'green': 13, 'red': 1}], 91: [{'green': 13, 'red': 11, 'blue': 4}, {'red': 14, 'green': 1, 'blue': 10}, {'red': 4, 'green': 2, 'blue': 3}], 92: [{'red': 2, 'blue': 3, 'green': 6}, {'red': 2, 'blue': 2, 'green': 8}, {'blue': 14, 'red': 1, 'green': 1}], 93: [{'blue': 15, 'red': 2, 'green': 13}, {'green': 8, 'red': 2, 'blue': 8}, {'blue': 6, 'red': 1, 'green': 2}], 94: [{'red': 5, 'green': 4, 'blue': 9}, {'red': 1, 'green': 5, 'blue': 4}, {'blue': 11, 'green': 4, 'red': 2}], 95: [{'blue': 9, 'green': 3}, {'green': 2, 'blue': 12}, {'green': 10, 'blue': 3}, {'green': 1, 'red': 1, 'blue': 10}], 96: [{'blue': 4, 'red': 2}, {'green': 3, 'blue': 10, 'red': 7}, {'blue': 2, 'green': 7, 'red': 1}, {'blue': 13, 'green': 9}, {'blue': 10, 'green': 4, 'red': 1}], 97: [{'red': 6, 'green': 4}, {'blue': 1, 'red': 13}, {'green': 3, 'red': 13}], 98: [{'red': 1, 'blue': 13, 'green': 1}, {'green': 7, 'blue': 5, 'red': 3}, {'blue': 15, 'green': 6}, {'blue': 4, 'green': 5}, {'blue': 13, 'green': 2, 'red': 1}, {'blue': 4, 'red': 3, 'green': 2}], 99: [{'red': 1, 'green': 2}, {'red': 2, 'blue': 2, 'green': 1}, {'green': 3, 'blue': 1, 'red': 6}, {'red': 3, 'green': 4}, {'red': 5, 'blue': 1, 'green': 4}, {'blue': 1, 'red': 2, 'green': 1}], 100: [{'green': 9, 'blue': 2, 'red': 12}, {'blue': 2, 'red': 14, 'green': 2}, {'red': 14, 'green': 12}]}\n"
     ]
    }
   ],
   "source": [
    "# READ FILE\n",
    "inputfilepath = './input.txt'\n",
    "\n",
    "with open(inputfilepath,'r') as f:\n",
    "    game_dict = {}\n",
    "    for line in f:\n",
    "        game_n, hand_list = process_line(line.rstrip())\n",
    "        game_dict[game_n] = hand_list\n",
    "    print(game_dict)"
   ]
  },
  {
   "cell_type": "code",
   "execution_count": 71,
   "metadata": {},
   "outputs": [
    {
     "data": {
      "text/plain": [
       "([72,\n",
       "  70,\n",
       "  64,\n",
       "  96,\n",
       "  2880,\n",
       "  336,\n",
       "  16,\n",
       "  117,\n",
       "  42,\n",
       "  130,\n",
       "  216,\n",
       "  128,\n",
       "  756,\n",
       "  720,\n",
       "  18,\n",
       "  780,\n",
       "  4896,\n",
       "  242,\n",
       "  1920,\n",
       "  462,\n",
       "  2640,\n",
       "  81,\n",
       "  286,\n",
       "  1170,\n",
       "  280,\n",
       "  240,\n",
       "  420,\n",
       "  364,\n",
       "  120,\n",
       "  2160,\n",
       "  198,\n",
       "  480,\n",
       "  78,\n",
       "  420,\n",
       "  450,\n",
       "  2508,\n",
       "  4320,\n",
       "  2057,\n",
       "  540,\n",
       "  1872,\n",
       "  3757,\n",
       "  16,\n",
       "  1120,\n",
       "  1134,\n",
       "  1760,\n",
       "  72,\n",
       "  1056,\n",
       "  1155,\n",
       "  18,\n",
       "  380,\n",
       "  630,\n",
       "  150,\n",
       "  432,\n",
       "  108,\n",
       "  1350,\n",
       "  88,\n",
       "  24,\n",
       "  1188,\n",
       "  64,\n",
       "  2340,\n",
       "  462,\n",
       "  96,\n",
       "  242,\n",
       "  1190,\n",
       "  750,\n",
       "  128,\n",
       "  1620,\n",
       "  2380,\n",
       "  162,\n",
       "  96,\n",
       "  187,\n",
       "  780,\n",
       "  198,\n",
       "  195,\n",
       "  792,\n",
       "  30,\n",
       "  2028,\n",
       "  76,\n",
       "  117,\n",
       "  260,\n",
       "  512,\n",
       "  216,\n",
       "  72,\n",
       "  216,\n",
       "  1144,\n",
       "  399,\n",
       "  24,\n",
       "  200,\n",
       "  240,\n",
       "  70,\n",
       "  1820,\n",
       "  224,\n",
       "  390,\n",
       "  275,\n",
       "  120,\n",
       "  819,\n",
       "  52,\n",
       "  315,\n",
       "  48,\n",
       "  336],\n",
       " 70768)"
      ]
     },
     "execution_count": 71,
     "metadata": {},
     "output_type": "execute_result"
    }
   ],
   "source": [
    "power_list = []\n",
    "for game_n, game in game_dict.items():\n",
    "    min_cubes_n = min_cubes_per_game(game)\n",
    "    power = min_cubes_n['red']*min_cubes_n['green']*min_cubes_n['blue']\n",
    "    power_list.append(power)\n",
    "\n",
    "power_list, sum(power_list)"
   ]
  },
  {
   "cell_type": "code",
   "execution_count": null,
   "metadata": {},
   "outputs": [],
   "source": []
  }
 ],
 "metadata": {
  "kernelspec": {
   "display_name": "geodiag",
   "language": "python",
   "name": "python3"
  },
  "language_info": {
   "codemirror_mode": {
    "name": "ipython",
    "version": 3
   },
   "file_extension": ".py",
   "mimetype": "text/x-python",
   "name": "python",
   "nbconvert_exporter": "python",
   "pygments_lexer": "ipython3",
   "version": "3.8.10"
  }
 },
 "nbformat": 4,
 "nbformat_minor": 2
}
