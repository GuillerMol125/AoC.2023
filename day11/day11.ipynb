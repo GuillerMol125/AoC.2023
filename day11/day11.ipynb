{
 "cells": [
  {
   "cell_type": "code",
   "execution_count": 1,
   "metadata": {},
   "outputs": [],
   "source": [
    "import pandas as pd\n",
    "import numpy as np\n",
    "import os, sys\n",
    "import math\n",
    "import copy"
   ]
  },
  {
   "cell_type": "markdown",
   "metadata": {},
   "source": [
    "## PROCESS FIRST SAMPLE"
   ]
  },
  {
   "cell_type": "code",
   "execution_count": 4,
   "metadata": {},
   "outputs": [],
   "source": [
    "input = [\"...#......\",\n",
    "\".......#..\",\n",
    "\"#.........\",\n",
    "\"..........\",\n",
    "\"......#...\",\n",
    "\".#........\",\n",
    "\".........#\",\n",
    "\"..........\",\n",
    "\".......#..\",\n",
    "\"#...#.....\"]"
   ]
  },
  {
   "cell_type": "code",
   "execution_count": 29,
   "metadata": {},
   "outputs": [
    {
     "data": {
      "text/plain": [
       "array([[0, 0, 0, 1, 0, 0, 0, 0, 0, 0],\n",
       "       [0, 0, 0, 0, 0, 0, 0, 1, 0, 0],\n",
       "       [1, 0, 0, 0, 0, 0, 0, 0, 0, 0],\n",
       "       [0, 0, 0, 0, 0, 0, 0, 0, 0, 0],\n",
       "       [0, 0, 0, 0, 0, 0, 1, 0, 0, 0],\n",
       "       [0, 1, 0, 0, 0, 0, 0, 0, 0, 0],\n",
       "       [0, 0, 0, 0, 0, 0, 0, 0, 0, 1],\n",
       "       [0, 0, 0, 0, 0, 0, 0, 0, 0, 0],\n",
       "       [0, 0, 0, 0, 0, 0, 0, 1, 0, 0],\n",
       "       [1, 0, 0, 0, 1, 0, 0, 0, 0, 0]])"
      ]
     },
     "execution_count": 29,
     "metadata": {},
     "output_type": "execute_result"
    }
   ],
   "source": [
    "array_input = []\n",
    "for line in input:\n",
    "    list_line = []\n",
    "    for linechar in line:\n",
    "        if linechar == '.':\n",
    "            list_line.append(0)\n",
    "        elif linechar == '#':\n",
    "            list_line.append(1)\n",
    "        else:\n",
    "            print(f'Unknown char {linechar}')\n",
    "    array_input.append(list_line)\n",
    "np_input = np.array(array_input)\n",
    "np_input.shape\n",
    "np_input\n"
   ]
  },
  {
   "cell_type": "code",
   "execution_count": 58,
   "metadata": {},
   "outputs": [],
   "source": [
    "def expand_array(array, num_rows, num_cols):\n",
    "    expanded_array = array.copy()\n",
    "    new_row = np.zeros((num_cols,))\n",
    "    for i in range(num_rows-1,0,-1):\n",
    "        if np.sum(expanded_array[i,:])==0:\n",
    "            expanded_array = np.insert(expanded_array,i,new_row,axis=0)\n",
    "            num_rows += 1\n",
    "    new_col = np.zeros((num_rows,))\n",
    "    for i in range(num_cols-1,0,-1):\n",
    "        if np.sum(expanded_array[:,i])==0:\n",
    "            expanded_array = np.insert(expanded_array,i,new_col,axis=1)\n",
    "            \n",
    "    return expanded_array"
   ]
  },
  {
   "cell_type": "code",
   "execution_count": 59,
   "metadata": {},
   "outputs": [
    {
     "name": "stdout",
     "output_type": "stream",
     "text": [
      "(12, 13)\n"
     ]
    },
    {
     "data": {
      "text/plain": [
       "array([[0, 0, 0, 0, 1, 0, 0, 0, 0, 0, 0, 0, 0],\n",
       "       [0, 0, 0, 0, 0, 0, 0, 0, 0, 1, 0, 0, 0],\n",
       "       [1, 0, 0, 0, 0, 0, 0, 0, 0, 0, 0, 0, 0],\n",
       "       [0, 0, 0, 0, 0, 0, 0, 0, 0, 0, 0, 0, 0],\n",
       "       [0, 0, 0, 0, 0, 0, 0, 0, 0, 0, 0, 0, 0],\n",
       "       [0, 0, 0, 0, 0, 0, 0, 0, 1, 0, 0, 0, 0],\n",
       "       [0, 1, 0, 0, 0, 0, 0, 0, 0, 0, 0, 0, 0],\n",
       "       [0, 0, 0, 0, 0, 0, 0, 0, 0, 0, 0, 0, 1],\n",
       "       [0, 0, 0, 0, 0, 0, 0, 0, 0, 0, 0, 0, 0],\n",
       "       [0, 0, 0, 0, 0, 0, 0, 0, 0, 0, 0, 0, 0],\n",
       "       [0, 0, 0, 0, 0, 0, 0, 0, 0, 1, 0, 0, 0],\n",
       "       [1, 0, 0, 0, 0, 1, 0, 0, 0, 0, 0, 0, 0]])"
      ]
     },
     "execution_count": 59,
     "metadata": {},
     "output_type": "execute_result"
    }
   ],
   "source": [
    "expanded_array = expand_array(np_input,np_input.shape[0],np_input.shape[1])\n",
    "print(expanded_array.shape)\n",
    "expanded_array"
   ]
  },
  {
   "cell_type": "code",
   "execution_count": 60,
   "metadata": {},
   "outputs": [],
   "source": [
    "def get_list_galaxies(map, num_rows, num_cols):\n",
    "    galaxy_list = []\n",
    "    for i in range(num_rows):\n",
    "        for j in range(num_cols):\n",
    "            if map[i,j] == 1:\n",
    "                galaxy_list.append((i,j))\n",
    "    return galaxy_list"
   ]
  },
  {
   "cell_type": "code",
   "execution_count": 63,
   "metadata": {},
   "outputs": [],
   "source": [
    "galaxy_list = get_list_galaxies(expanded_array,expanded_array.shape[0], expanded_array.shape[1])"
   ]
  },
  {
   "cell_type": "code",
   "execution_count": 64,
   "metadata": {},
   "outputs": [],
   "source": [
    "def get_galaxy_distances(galaxy_list):\n",
    "    tot_distance = 0\n",
    "    for i in range(len(galaxy_list)):\n",
    "        orig_galaxy = galaxy_list[i]\n",
    "        for j in range(i + 1, len(galaxy_list)):\n",
    "            dest_galaxy = galaxy_list[j]\n",
    "            distance = abs(dest_galaxy[0] - orig_galaxy[0]) + abs(dest_galaxy[1] - orig_galaxy[1])\n",
    "            tot_distance += distance\n",
    "    return tot_distance"
   ]
  },
  {
   "cell_type": "code",
   "execution_count": 65,
   "metadata": {},
   "outputs": [
    {
     "data": {
      "text/plain": [
       "374"
      ]
     },
     "execution_count": 65,
     "metadata": {},
     "output_type": "execute_result"
    }
   ],
   "source": [
    "get_galaxy_distances(galaxy_list)"
   ]
  },
  {
   "cell_type": "markdown",
   "metadata": {},
   "source": [
    "## PROCESS PART 1"
   ]
  },
  {
   "cell_type": "code",
   "execution_count": 66,
   "metadata": {},
   "outputs": [],
   "source": [
    "# READ FILE\n",
    "inputfilepath = './input.txt'\n",
    "\n",
    "input = []\n",
    "with open(inputfilepath,'r') as f:\n",
    "    for line in f:\n",
    "        input.append(line.rstrip())"
   ]
  },
  {
   "cell_type": "code",
   "execution_count": 68,
   "metadata": {},
   "outputs": [
    {
     "name": "stdout",
     "output_type": "stream",
     "text": [
      "(140, 140)\n"
     ]
    },
    {
     "data": {
      "text/plain": [
       "array([[0, 0, 0, ..., 0, 0, 0],\n",
       "       [0, 0, 0, ..., 0, 0, 0],\n",
       "       [0, 0, 0, ..., 0, 0, 0],\n",
       "       ...,\n",
       "       [0, 0, 0, ..., 0, 0, 0],\n",
       "       [0, 0, 0, ..., 1, 0, 0],\n",
       "       [0, 0, 0, ..., 0, 0, 0]])"
      ]
     },
     "execution_count": 68,
     "metadata": {},
     "output_type": "execute_result"
    }
   ],
   "source": [
    "array_input = []\n",
    "for line in input:\n",
    "    list_line = []\n",
    "    for linechar in line:\n",
    "        if linechar == '.':\n",
    "            list_line.append(0)\n",
    "        elif linechar == '#':\n",
    "            list_line.append(1)\n",
    "        else:\n",
    "            print(f'Unknown char {linechar}')\n",
    "    array_input.append(list_line)\n",
    "np_input = np.array(array_input)\n",
    "print(np_input.shape)\n",
    "np_input\n"
   ]
  },
  {
   "cell_type": "code",
   "execution_count": 69,
   "metadata": {},
   "outputs": [
    {
     "name": "stdout",
     "output_type": "stream",
     "text": [
      "(147, 145)\n"
     ]
    },
    {
     "data": {
      "text/plain": [
       "array([[0, 0, 0, ..., 0, 0, 0],\n",
       "       [0, 0, 0, ..., 0, 0, 0],\n",
       "       [0, 0, 0, ..., 0, 0, 0],\n",
       "       ...,\n",
       "       [0, 0, 0, ..., 0, 0, 0],\n",
       "       [0, 0, 0, ..., 1, 0, 0],\n",
       "       [0, 0, 0, ..., 0, 0, 0]])"
      ]
     },
     "execution_count": 69,
     "metadata": {},
     "output_type": "execute_result"
    }
   ],
   "source": [
    "expanded_array = expand_array(np_input,np_input.shape[0],np_input.shape[1])\n",
    "print(expanded_array.shape)\n",
    "expanded_array"
   ]
  },
  {
   "cell_type": "code",
   "execution_count": 70,
   "metadata": {},
   "outputs": [],
   "source": [
    "galaxy_list = get_list_galaxies(expanded_array,expanded_array.shape[0], expanded_array.shape[1])"
   ]
  },
  {
   "cell_type": "code",
   "execution_count": 71,
   "metadata": {},
   "outputs": [
    {
     "data": {
      "text/plain": [
       "9274989"
      ]
     },
     "execution_count": 71,
     "metadata": {},
     "output_type": "execute_result"
    }
   ],
   "source": [
    "get_galaxy_distances(galaxy_list)"
   ]
  },
  {
   "cell_type": "markdown",
   "metadata": {},
   "source": [
    "## PROCESS SECOND SAMPLE"
   ]
  },
  {
   "cell_type": "code",
   "execution_count": 72,
   "metadata": {},
   "outputs": [],
   "source": [
    "input = [\"...#......\",\n",
    "\".......#..\",\n",
    "\"#.........\",\n",
    "\"..........\",\n",
    "\"......#...\",\n",
    "\".#........\",\n",
    "\".........#\",\n",
    "\"..........\",\n",
    "\".......#..\",\n",
    "\"#...#.....\"]"
   ]
  },
  {
   "cell_type": "code",
   "execution_count": 73,
   "metadata": {},
   "outputs": [
    {
     "data": {
      "text/plain": [
       "array([[0, 0, 0, 1, 0, 0, 0, 0, 0, 0],\n",
       "       [0, 0, 0, 0, 0, 0, 0, 1, 0, 0],\n",
       "       [1, 0, 0, 0, 0, 0, 0, 0, 0, 0],\n",
       "       [0, 0, 0, 0, 0, 0, 0, 0, 0, 0],\n",
       "       [0, 0, 0, 0, 0, 0, 1, 0, 0, 0],\n",
       "       [0, 1, 0, 0, 0, 0, 0, 0, 0, 0],\n",
       "       [0, 0, 0, 0, 0, 0, 0, 0, 0, 1],\n",
       "       [0, 0, 0, 0, 0, 0, 0, 0, 0, 0],\n",
       "       [0, 0, 0, 0, 0, 0, 0, 1, 0, 0],\n",
       "       [1, 0, 0, 0, 1, 0, 0, 0, 0, 0]])"
      ]
     },
     "execution_count": 73,
     "metadata": {},
     "output_type": "execute_result"
    }
   ],
   "source": [
    "array_input = []\n",
    "for line in input:\n",
    "    list_line = []\n",
    "    for linechar in line:\n",
    "        if linechar == '.':\n",
    "            list_line.append(0)\n",
    "        elif linechar == '#':\n",
    "            list_line.append(1)\n",
    "        else:\n",
    "            print(f'Unknown char {linechar}')\n",
    "    array_input.append(list_line)\n",
    "np_input = np.array(array_input)\n",
    "np_input.shape\n",
    "np_input\n"
   ]
  },
  {
   "cell_type": "code",
   "execution_count": 74,
   "metadata": {},
   "outputs": [],
   "source": [
    "def find_empty_rows(array, rows):\n",
    "    empty_rows = []\n",
    "    for i in range(rows):\n",
    "        if np.sum(array[i,:]) == 0:\n",
    "            empty_rows.append(i)\n",
    "    return empty_rows\n",
    "\n",
    "def find_empty_cols(array, cols):\n",
    "    empty_cols = []\n",
    "    for i in range(cols):\n",
    "        if np.sum(array[:,i]) == 0:\n",
    "            empty_cols.append(i)\n",
    "    return empty_cols"
   ]
  },
  {
   "cell_type": "code",
   "execution_count": 76,
   "metadata": {},
   "outputs": [
    {
     "data": {
      "text/plain": [
       "(array([3, 7]), array([2, 5, 8]))"
      ]
     },
     "execution_count": 76,
     "metadata": {},
     "output_type": "execute_result"
    }
   ],
   "source": [
    "empty_rows = np.array(find_empty_rows(np_input,np_input.shape[0]))\n",
    "empty_cols = np.array(find_empty_cols(np_input,np_input.shape[1]))\n",
    "empty_rows, empty_cols"
   ]
  },
  {
   "cell_type": "code",
   "execution_count": 88,
   "metadata": {},
   "outputs": [],
   "source": [
    "def get_older_galaxy_distances(galaxy_list,empty_rows,empty_cols,weight):\n",
    "    tot_distance = 0\n",
    "    for i in range(len(galaxy_list)):\n",
    "        orig_galaxy = galaxy_list[i]\n",
    "        for j in range(i + 1, len(galaxy_list)):\n",
    "            dest_galaxy = galaxy_list[j]\n",
    "            distance = abs(dest_galaxy[0] - orig_galaxy[0]) + abs(dest_galaxy[1] - orig_galaxy[1])\n",
    "            crossed_empty_rows = np.sum((empty_rows > min(orig_galaxy[0],dest_galaxy[0]))&(empty_rows < max(orig_galaxy[0],dest_galaxy[0])))\n",
    "            crossed_empty_cols = np.sum((empty_cols > min(orig_galaxy[1],dest_galaxy[1]))&(empty_cols < max(orig_galaxy[1],dest_galaxy[1])))\n",
    "\n",
    "            tot_distance += distance + (weight-1)*crossed_empty_rows + (weight-1)*crossed_empty_cols\n",
    "    return tot_distance"
   ]
  },
  {
   "cell_type": "code",
   "execution_count": 89,
   "metadata": {},
   "outputs": [
    {
     "data": {
      "text/plain": [
       "[(0, 3), (1, 7), (2, 0), (4, 6), (5, 1), (6, 9), (8, 7), (9, 0), (9, 4)]"
      ]
     },
     "execution_count": 89,
     "metadata": {},
     "output_type": "execute_result"
    }
   ],
   "source": [
    "galaxy_list = get_list_galaxies(np_input,np_input.shape[0], np_input.shape[1])\n",
    "galaxy_list"
   ]
  },
  {
   "cell_type": "code",
   "execution_count": 91,
   "metadata": {},
   "outputs": [
    {
     "data": {
      "text/plain": [
       "8410"
      ]
     },
     "execution_count": 91,
     "metadata": {},
     "output_type": "execute_result"
    }
   ],
   "source": [
    "get_older_galaxy_distances(galaxy_list,empty_rows,empty_cols,100)"
   ]
  },
  {
   "cell_type": "markdown",
   "metadata": {},
   "source": [
    "## PROCESS PART 2"
   ]
  },
  {
   "cell_type": "code",
   "execution_count": 92,
   "metadata": {},
   "outputs": [],
   "source": [
    "# READ FILE\n",
    "inputfilepath = './input.txt'\n",
    "\n",
    "input = []\n",
    "with open(inputfilepath,'r') as f:\n",
    "    for line in f:\n",
    "        input.append(line.rstrip())"
   ]
  },
  {
   "cell_type": "code",
   "execution_count": 93,
   "metadata": {},
   "outputs": [
    {
     "data": {
      "text/plain": [
       "array([[0, 0, 0, ..., 0, 0, 0],\n",
       "       [0, 0, 0, ..., 0, 0, 0],\n",
       "       [0, 0, 0, ..., 0, 0, 0],\n",
       "       ...,\n",
       "       [0, 0, 0, ..., 0, 0, 0],\n",
       "       [0, 0, 0, ..., 1, 0, 0],\n",
       "       [0, 0, 0, ..., 0, 0, 0]])"
      ]
     },
     "execution_count": 93,
     "metadata": {},
     "output_type": "execute_result"
    }
   ],
   "source": [
    "array_input = []\n",
    "for line in input:\n",
    "    list_line = []\n",
    "    for linechar in line:\n",
    "        if linechar == '.':\n",
    "            list_line.append(0)\n",
    "        elif linechar == '#':\n",
    "            list_line.append(1)\n",
    "        else:\n",
    "            print(f'Unknown char {linechar}')\n",
    "    array_input.append(list_line)\n",
    "np_input = np.array(array_input)\n",
    "np_input.shape\n",
    "np_input\n"
   ]
  },
  {
   "cell_type": "code",
   "execution_count": 94,
   "metadata": {},
   "outputs": [
    {
     "data": {
      "text/plain": [
       "(array([  1,   5,  10,  56,  64,  65, 111]), array([ 3, 11, 59, 78, 84]))"
      ]
     },
     "execution_count": 94,
     "metadata": {},
     "output_type": "execute_result"
    }
   ],
   "source": [
    "empty_rows = np.array(find_empty_rows(np_input,np_input.shape[0]))\n",
    "empty_cols = np.array(find_empty_cols(np_input,np_input.shape[1]))\n",
    "empty_rows, empty_cols"
   ]
  },
  {
   "cell_type": "code",
   "execution_count": 95,
   "metadata": {},
   "outputs": [
    {
     "data": {
      "text/plain": [
       "[(0, 25),\n",
       " (0, 51),\n",
       " (0, 73),\n",
       " (0, 82),\n",
       " (0, 101),\n",
       " (0, 114),\n",
       " (0, 130),\n",
       " (2, 35),\n",
       " (2, 58),\n",
       " (3, 92),\n",
       " (3, 119),\n",
       " (3, 125),\n",
       " (4, 2),\n",
       " (4, 31),\n",
       " (4, 46),\n",
       " (4, 66),\n",
       " (4, 107),\n",
       " (4, 137),\n",
       " (6, 16),\n",
       " (6, 22),\n",
       " (6, 37),\n",
       " (6, 77),\n",
       " (6, 95),\n",
       " (6, 101),\n",
       " (7, 8),\n",
       " (7, 54),\n",
       " (7, 121),\n",
       " (8, 42),\n",
       " (8, 61),\n",
       " (8, 72),\n",
       " (8, 88),\n",
       " (8, 130),\n",
       " (9, 0),\n",
       " (9, 81),\n",
       " (9, 111),\n",
       " (9, 138),\n",
       " (11, 12),\n",
       " (12, 23),\n",
       " (12, 29),\n",
       " (12, 47),\n",
       " (12, 74),\n",
       " (12, 132),\n",
       " (13, 97),\n",
       " (14, 35),\n",
       " (14, 52),\n",
       " (14, 87),\n",
       " (14, 117),\n",
       " (15, 4),\n",
       " (15, 58),\n",
       " (15, 107),\n",
       " (15, 124),\n",
       " (15, 137),\n",
       " (16, 10),\n",
       " (16, 81),\n",
       " (16, 94),\n",
       " (17, 101),\n",
       " (17, 114),\n",
       " (17, 129),\n",
       " (18, 24),\n",
       " (18, 66),\n",
       " (18, 72),\n",
       " (18, 120),\n",
       " (19, 2),\n",
       " (19, 31),\n",
       " (20, 14),\n",
       " (20, 40),\n",
       " (20, 60),\n",
       " (20, 98),\n",
       " (20, 105),\n",
       " (21, 76),\n",
       " (21, 83),\n",
       " (22, 123),\n",
       " (23, 19),\n",
       " (23, 101),\n",
       " (23, 116),\n",
       " (23, 129),\n",
       " (24, 26),\n",
       " (24, 50),\n",
       " (24, 91),\n",
       " (24, 137),\n",
       " (25, 67),\n",
       " (26, 0),\n",
       " (26, 16),\n",
       " (26, 38),\n",
       " (26, 44),\n",
       " (26, 82),\n",
       " (27, 33),\n",
       " (27, 75),\n",
       " (27, 103),\n",
       " (28, 6),\n",
       " (28, 96),\n",
       " (28, 108),\n",
       " (28, 123),\n",
       " (29, 58),\n",
       " (29, 135),\n",
       " (30, 116),\n",
       " (30, 127),\n",
       " (31, 13),\n",
       " (31, 20),\n",
       " (31, 45),\n",
       " (32, 39),\n",
       " (32, 68),\n",
       " (32, 87),\n",
       " (33, 53),\n",
       " (33, 100),\n",
       " (34, 2),\n",
       " (34, 29),\n",
       " (34, 79),\n",
       " (34, 95),\n",
       " (34, 112),\n",
       " (35, 7),\n",
       " (35, 15),\n",
       " (35, 60),\n",
       " (35, 130),\n",
       " (36, 41),\n",
       " (36, 47),\n",
       " (36, 116),\n",
       " (36, 122),\n",
       " (37, 103),\n",
       " (38, 4),\n",
       " (38, 52),\n",
       " (38, 73),\n",
       " (38, 83),\n",
       " (38, 98),\n",
       " (39, 109),\n",
       " (39, 133),\n",
       " (40, 21),\n",
       " (40, 30),\n",
       " (41, 60),\n",
       " (41, 66),\n",
       " (41, 124),\n",
       " (42, 13),\n",
       " (42, 45),\n",
       " (42, 55),\n",
       " (42, 89),\n",
       " (42, 113),\n",
       " (43, 72),\n",
       " (43, 79),\n",
       " (44, 28),\n",
       " (44, 119),\n",
       " (44, 139),\n",
       " (45, 1),\n",
       " (45, 9),\n",
       " (45, 20),\n",
       " (45, 39),\n",
       " (45, 129),\n",
       " (46, 32),\n",
       " (47, 52),\n",
       " (47, 64),\n",
       " (47, 87),\n",
       " (47, 96),\n",
       " (48, 6),\n",
       " (48, 12),\n",
       " (49, 57),\n",
       " (49, 81),\n",
       " (49, 104),\n",
       " (49, 134),\n",
       " (50, 41),\n",
       " (50, 75),\n",
       " (50, 117),\n",
       " (51, 127),\n",
       " (52, 23),\n",
       " (52, 94),\n",
       " (53, 0),\n",
       " (53, 7),\n",
       " (53, 30),\n",
       " (53, 46),\n",
       " (53, 52),\n",
       " (53, 71),\n",
       " (53, 123),\n",
       " (54, 80),\n",
       " (54, 110),\n",
       " (55, 18),\n",
       " (55, 42),\n",
       " (55, 85),\n",
       " (55, 100),\n",
       " (55, 116),\n",
       " (55, 129),\n",
       " (55, 138),\n",
       " (57, 2),\n",
       " (57, 32),\n",
       " (57, 63),\n",
       " (58, 45),\n",
       " (58, 58),\n",
       " (58, 119),\n",
       " (59, 136),\n",
       " (60, 70),\n",
       " (60, 97),\n",
       " (60, 103),\n",
       " (60, 109),\n",
       " (61, 13),\n",
       " (61, 19),\n",
       " (62, 5),\n",
       " (62, 53),\n",
       " (62, 91),\n",
       " (62, 115),\n",
       " (63, 27),\n",
       " (63, 64),\n",
       " (63, 127),\n",
       " (66, 35),\n",
       " (66, 46),\n",
       " (66, 61),\n",
       " (66, 68),\n",
       " (66, 86),\n",
       " (66, 113),\n",
       " (66, 122),\n",
       " (66, 138),\n",
       " (67, 14),\n",
       " (67, 133),\n",
       " (68, 26),\n",
       " (68, 72),\n",
       " (68, 79),\n",
       " (69, 7),\n",
       " (69, 19),\n",
       " (69, 93),\n",
       " (70, 32),\n",
       " (70, 50),\n",
       " (70, 100),\n",
       " (70, 106),\n",
       " (70, 120),\n",
       " (71, 23),\n",
       " (71, 56),\n",
       " (71, 85),\n",
       " (72, 44),\n",
       " (72, 65),\n",
       " (72, 116),\n",
       " (73, 28),\n",
       " (73, 90),\n",
       " (73, 111),\n",
       " (74, 75),\n",
       " (75, 7),\n",
       " (75, 13),\n",
       " (75, 37),\n",
       " (75, 107),\n",
       " (76, 2),\n",
       " (77, 21),\n",
       " (77, 79),\n",
       " (77, 95),\n",
       " (78, 42),\n",
       " (78, 53),\n",
       " (78, 61),\n",
       " (78, 86),\n",
       " (79, 32),\n",
       " (79, 68),\n",
       " (79, 100),\n",
       " (79, 122),\n",
       " (79, 128),\n",
       " (80, 76),\n",
       " (80, 92),\n",
       " (81, 13),\n",
       " (81, 27),\n",
       " (81, 38),\n",
       " (81, 82),\n",
       " (81, 114),\n",
       " (82, 131),\n",
       " (82, 137),\n",
       " (83, 1),\n",
       " (83, 9),\n",
       " (83, 105),\n",
       " (84, 41),\n",
       " (84, 57),\n",
       " (84, 86),\n",
       " (84, 110),\n",
       " (84, 126),\n",
       " (85, 75),\n",
       " (85, 120),\n",
       " (86, 20),\n",
       " (86, 31),\n",
       " (86, 45),\n",
       " (86, 99),\n",
       " (87, 6),\n",
       " (88, 0),\n",
       " (89, 68),\n",
       " (89, 82),\n",
       " (89, 104),\n",
       " (89, 116),\n",
       " (90, 10),\n",
       " (90, 49),\n",
       " (90, 63),\n",
       " (90, 77),\n",
       " (91, 26),\n",
       " (91, 56),\n",
       " (91, 91),\n",
       " (91, 111),\n",
       " (91, 127),\n",
       " (91, 137),\n",
       " (92, 19),\n",
       " (93, 35),\n",
       " (93, 66),\n",
       " (94, 0),\n",
       " (94, 15),\n",
       " (94, 71),\n",
       " (94, 79),\n",
       " (94, 98),\n",
       " (94, 107),\n",
       " (95, 120),\n",
       " (96, 7),\n",
       " (96, 25),\n",
       " (96, 32),\n",
       " (96, 87),\n",
       " (96, 125),\n",
       " (97, 56),\n",
       " (97, 102),\n",
       " (98, 76),\n",
       " (98, 114),\n",
       " (99, 63),\n",
       " (99, 83),\n",
       " (99, 92),\n",
       " (99, 131),\n",
       " (100, 18),\n",
       " (100, 50),\n",
       " (100, 69),\n",
       " (100, 108),\n",
       " (101, 37),\n",
       " (101, 118),\n",
       " (102, 12),\n",
       " (102, 100),\n",
       " (103, 27),\n",
       " (103, 90),\n",
       " (103, 135),\n",
       " (104, 42),\n",
       " (104, 75),\n",
       " (105, 61),\n",
       " (105, 94),\n",
       " (105, 128),\n",
       " (106, 21),\n",
       " (106, 36),\n",
       " (106, 115),\n",
       " (107, 30),\n",
       " (107, 52),\n",
       " (107, 66),\n",
       " (107, 102),\n",
       " (108, 16),\n",
       " (108, 81),\n",
       " (108, 111),\n",
       " (108, 122),\n",
       " (109, 10),\n",
       " (109, 87),\n",
       " (109, 106),\n",
       " (110, 99),\n",
       " (110, 127),\n",
       " (110, 133),\n",
       " (112, 5),\n",
       " (112, 36),\n",
       " (112, 50),\n",
       " (112, 68),\n",
       " (113, 45),\n",
       " (113, 61),\n",
       " (113, 73),\n",
       " (113, 116),\n",
       " (114, 23),\n",
       " (114, 30),\n",
       " (114, 56),\n",
       " (114, 124),\n",
       " (115, 1),\n",
       " (115, 90),\n",
       " (115, 103),\n",
       " (115, 132),\n",
       " (116, 34),\n",
       " (116, 80),\n",
       " (116, 97),\n",
       " (116, 110),\n",
       " (117, 26),\n",
       " (117, 52),\n",
       " (118, 13),\n",
       " (118, 20),\n",
       " (118, 47),\n",
       " (118, 85),\n",
       " (118, 106),\n",
       " (119, 60),\n",
       " (119, 74),\n",
       " (119, 116),\n",
       " (120, 43),\n",
       " (121, 10),\n",
       " (121, 37),\n",
       " (121, 69),\n",
       " (121, 101),\n",
       " (121, 130),\n",
       " (122, 28),\n",
       " (122, 63),\n",
       " (122, 89),\n",
       " (122, 138),\n",
       " (123, 77),\n",
       " (123, 97),\n",
       " (124, 4),\n",
       " (124, 52),\n",
       " (124, 134),\n",
       " (125, 17),\n",
       " (125, 23),\n",
       " (125, 31),\n",
       " (125, 47),\n",
       " (125, 86),\n",
       " (125, 114),\n",
       " (126, 36),\n",
       " (126, 91),\n",
       " (127, 56),\n",
       " (127, 65),\n",
       " (127, 80),\n",
       " (127, 119),\n",
       " (128, 0),\n",
       " (128, 7),\n",
       " (128, 13),\n",
       " (128, 102),\n",
       " (128, 124),\n",
       " (128, 131),\n",
       " (129, 51),\n",
       " (129, 61),\n",
       " (129, 72),\n",
       " (129, 112),\n",
       " (130, 89),\n",
       " (131, 127),\n",
       " (132, 48),\n",
       " (132, 75),\n",
       " (132, 96),\n",
       " (133, 9),\n",
       " (133, 83),\n",
       " (133, 103),\n",
       " (134, 26),\n",
       " (134, 67),\n",
       " (134, 109),\n",
       " (134, 117),\n",
       " (135, 52),\n",
       " (135, 88),\n",
       " (136, 44),\n",
       " (136, 62),\n",
       " (136, 98),\n",
       " (136, 126),\n",
       " (137, 21),\n",
       " (137, 34),\n",
       " (138, 7),\n",
       " (138, 76),\n",
       " (138, 104),\n",
       " (138, 130),\n",
       " (138, 137),\n",
       " (139, 55),\n",
       " (139, 111)]"
      ]
     },
     "execution_count": 95,
     "metadata": {},
     "output_type": "execute_result"
    }
   ],
   "source": [
    "galaxy_list = get_list_galaxies(np_input,np_input.shape[0], np_input.shape[1])\n",
    "galaxy_list"
   ]
  },
  {
   "cell_type": "code",
   "execution_count": 96,
   "metadata": {},
   "outputs": [
    {
     "data": {
      "text/plain": [
       "357134560737"
      ]
     },
     "execution_count": 96,
     "metadata": {},
     "output_type": "execute_result"
    }
   ],
   "source": [
    "get_older_galaxy_distances(galaxy_list,empty_rows,empty_cols,1_000_000)"
   ]
  },
  {
   "cell_type": "code",
   "execution_count": null,
   "metadata": {},
   "outputs": [],
   "source": []
  }
 ],
 "metadata": {
  "kernelspec": {
   "display_name": "geodiag",
   "language": "python",
   "name": "python3"
  },
  "language_info": {
   "codemirror_mode": {
    "name": "ipython",
    "version": 3
   },
   "file_extension": ".py",
   "mimetype": "text/x-python",
   "name": "python",
   "nbconvert_exporter": "python",
   "pygments_lexer": "ipython3",
   "version": "3.8.10"
  }
 },
 "nbformat": 4,
 "nbformat_minor": 2
}
